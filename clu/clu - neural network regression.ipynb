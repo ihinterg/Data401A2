{
 "cells": [
  {
   "cell_type": "code",
   "execution_count": 1,
   "metadata": {
    "collapsed": true
   },
   "outputs": [],
   "source": [
    "import pandas as pd\n",
    "import json\n",
    "from feedforwardNeuralNetwork import *"
   ]
  },
  {
   "cell_type": "code",
   "execution_count": 2,
   "metadata": {
    "scrolled": false
   },
   "outputs": [
    {
     "data": {
      "text/html": [
       "<div>\n",
       "<style>\n",
       "    .dataframe thead tr:only-child th {\n",
       "        text-align: right;\n",
       "    }\n",
       "\n",
       "    .dataframe thead th {\n",
       "        text-align: left;\n",
       "    }\n",
       "\n",
       "    .dataframe tbody tr th {\n",
       "        vertical-align: top;\n",
       "    }\n",
       "</style>\n",
       "<table border=\"1\" class=\"dataframe\">\n",
       "  <thead>\n",
       "    <tr style=\"text-align: right;\">\n",
       "      <th></th>\n",
       "      <th>a</th>\n",
       "      <th>the</th>\n",
       "      <th>and</th>\n",
       "      <th>of</th>\n",
       "      <th>is</th>\n",
       "      <th>with</th>\n",
       "      <th>i</th>\n",
       "      <th>it</th>\n",
       "      <th>to</th>\n",
       "      <th>this</th>\n",
       "      <th>...</th>\n",
       "      <th>part_of_speech_VBG</th>\n",
       "      <th>part_of_speech_VBN</th>\n",
       "      <th>part_of_speech_VBP</th>\n",
       "      <th>part_of_speech_VBZ</th>\n",
       "      <th>part_of_speech_WDT</th>\n",
       "      <th>part_of_speech_WP</th>\n",
       "      <th>part_of_speech_WP$</th>\n",
       "      <th>part_of_speech_WRB</th>\n",
       "      <th>part_of_speech_``</th>\n",
       "      <th>proportion_unique</th>\n",
       "    </tr>\n",
       "  </thead>\n",
       "  <tbody>\n",
       "    <tr>\n",
       "      <th>0</th>\n",
       "      <td>1</td>\n",
       "      <td>1</td>\n",
       "      <td>0</td>\n",
       "      <td>1</td>\n",
       "      <td>1</td>\n",
       "      <td>1</td>\n",
       "      <td>1</td>\n",
       "      <td>1</td>\n",
       "      <td>1</td>\n",
       "      <td>1</td>\n",
       "      <td>...</td>\n",
       "      <td>0.028571</td>\n",
       "      <td>0.000</td>\n",
       "      <td>0.000</td>\n",
       "      <td>0.000000</td>\n",
       "      <td>0.000</td>\n",
       "      <td>0.0</td>\n",
       "      <td>0.0</td>\n",
       "      <td>0.0</td>\n",
       "      <td>0.0</td>\n",
       "      <td>0.714286</td>\n",
       "    </tr>\n",
       "    <tr>\n",
       "      <th>1</th>\n",
       "      <td>1</td>\n",
       "      <td>1</td>\n",
       "      <td>0</td>\n",
       "      <td>1</td>\n",
       "      <td>1</td>\n",
       "      <td>1</td>\n",
       "      <td>1</td>\n",
       "      <td>0</td>\n",
       "      <td>1</td>\n",
       "      <td>0</td>\n",
       "      <td>...</td>\n",
       "      <td>0.000000</td>\n",
       "      <td>0.000</td>\n",
       "      <td>0.000</td>\n",
       "      <td>0.000000</td>\n",
       "      <td>0.000</td>\n",
       "      <td>0.0</td>\n",
       "      <td>0.0</td>\n",
       "      <td>0.0</td>\n",
       "      <td>0.0</td>\n",
       "      <td>0.606557</td>\n",
       "    </tr>\n",
       "    <tr>\n",
       "      <th>2</th>\n",
       "      <td>1</td>\n",
       "      <td>1</td>\n",
       "      <td>1</td>\n",
       "      <td>0</td>\n",
       "      <td>0</td>\n",
       "      <td>1</td>\n",
       "      <td>1</td>\n",
       "      <td>1</td>\n",
       "      <td>1</td>\n",
       "      <td>0</td>\n",
       "      <td>...</td>\n",
       "      <td>0.000000</td>\n",
       "      <td>0.000</td>\n",
       "      <td>0.000</td>\n",
       "      <td>0.021277</td>\n",
       "      <td>0.000</td>\n",
       "      <td>0.0</td>\n",
       "      <td>0.0</td>\n",
       "      <td>0.0</td>\n",
       "      <td>0.0</td>\n",
       "      <td>0.681159</td>\n",
       "    </tr>\n",
       "    <tr>\n",
       "      <th>3</th>\n",
       "      <td>1</td>\n",
       "      <td>1</td>\n",
       "      <td>1</td>\n",
       "      <td>0</td>\n",
       "      <td>0</td>\n",
       "      <td>1</td>\n",
       "      <td>1</td>\n",
       "      <td>0</td>\n",
       "      <td>1</td>\n",
       "      <td>0</td>\n",
       "      <td>...</td>\n",
       "      <td>0.000000</td>\n",
       "      <td>0.000</td>\n",
       "      <td>0.000</td>\n",
       "      <td>0.023256</td>\n",
       "      <td>0.000</td>\n",
       "      <td>0.0</td>\n",
       "      <td>0.0</td>\n",
       "      <td>0.0</td>\n",
       "      <td>0.0</td>\n",
       "      <td>0.581081</td>\n",
       "    </tr>\n",
       "    <tr>\n",
       "      <th>4</th>\n",
       "      <td>1</td>\n",
       "      <td>1</td>\n",
       "      <td>1</td>\n",
       "      <td>1</td>\n",
       "      <td>0</td>\n",
       "      <td>1</td>\n",
       "      <td>1</td>\n",
       "      <td>1</td>\n",
       "      <td>1</td>\n",
       "      <td>1</td>\n",
       "      <td>...</td>\n",
       "      <td>0.032000</td>\n",
       "      <td>0.016</td>\n",
       "      <td>0.008</td>\n",
       "      <td>0.008000</td>\n",
       "      <td>0.008</td>\n",
       "      <td>0.0</td>\n",
       "      <td>0.0</td>\n",
       "      <td>0.0</td>\n",
       "      <td>0.0</td>\n",
       "      <td>0.612745</td>\n",
       "    </tr>\n",
       "  </tbody>\n",
       "</table>\n",
       "<p>5 rows × 5051 columns</p>\n",
       "</div>"
      ],
      "text/plain": [
       "   a  the  and  of  is  with  i  it  to  this        ...          \\\n",
       "0  1    1    0   1   1     1  1   1   1     1        ...           \n",
       "1  1    1    0   1   1     1  1   0   1     0        ...           \n",
       "2  1    1    1   0   0     1  1   1   1     0        ...           \n",
       "3  1    1    1   0   0     1  1   0   1     0        ...           \n",
       "4  1    1    1   1   0     1  1   1   1     1        ...           \n",
       "\n",
       "   part_of_speech_VBG  part_of_speech_VBN  part_of_speech_VBP  \\\n",
       "0            0.028571               0.000               0.000   \n",
       "1            0.000000               0.000               0.000   \n",
       "2            0.000000               0.000               0.000   \n",
       "3            0.000000               0.000               0.000   \n",
       "4            0.032000               0.016               0.008   \n",
       "\n",
       "   part_of_speech_VBZ  part_of_speech_WDT  part_of_speech_WP  \\\n",
       "0            0.000000               0.000                0.0   \n",
       "1            0.000000               0.000                0.0   \n",
       "2            0.021277               0.000                0.0   \n",
       "3            0.023256               0.000                0.0   \n",
       "4            0.008000               0.008                0.0   \n",
       "\n",
       "   part_of_speech_WP$  part_of_speech_WRB  part_of_speech_``  \\\n",
       "0                 0.0                 0.0                0.0   \n",
       "1                 0.0                 0.0                0.0   \n",
       "2                 0.0                 0.0                0.0   \n",
       "3                 0.0                 0.0                0.0   \n",
       "4                 0.0                 0.0                0.0   \n",
       "\n",
       "   proportion_unique  \n",
       "0           0.714286  \n",
       "1           0.606557  \n",
       "2           0.681159  \n",
       "3           0.581081  \n",
       "4           0.612745  \n",
       "\n",
       "[5 rows x 5051 columns]"
      ]
     },
     "execution_count": 2,
     "metadata": {},
     "output_type": "execute_result"
    }
   ],
   "source": [
    "depcols = json.load(open(\"dependent_variables.json\", \"r\"))\n",
    "indepcols = json.load(open(\"independent_variables.json\", \"r\"))\n",
    "\n",
    "finaldf = pd.read_csv(\"for_neural_regression.csv\")\n",
    "targets = finaldf[depcols]\n",
    "independents = finaldf[indepcols]\n",
    "independents.head()"
   ]
  },
  {
   "cell_type": "code",
   "execution_count": 44,
   "metadata": {},
   "outputs": [
    {
     "data": {
      "text/plain": [
       "0.9999733219515861"
      ]
     },
     "execution_count": 44,
     "metadata": {},
     "output_type": "execute_result"
    }
   ],
   "source": [
    "np.var((independents[\"a\"] - independents[\"a\"].mean()) / np.sqrt(independents[\"a\"].var()))"
   ]
  },
  {
   "cell_type": "markdown",
   "metadata": {},
   "source": [
    "### Normalization"
   ]
  },
  {
   "cell_type": "code",
   "execution_count": 13,
   "metadata": {},
   "outputs": [
    {
     "name": "stderr",
     "output_type": "stream",
     "text": [
      "C:\\Users\\Sam\\Anaconda3\\lib\\site-packages\\ipykernel_launcher.py:6: SettingWithCopyWarning: \n",
      "A value is trying to be set on a copy of a slice from a DataFrame.\n",
      "Try using .loc[row_indexer,col_indexer] = value instead\n",
      "\n",
      "See the caveats in the documentation: http://pandas.pydata.org/pandas-docs/stable/indexing.html#indexing-view-versus-copy\n",
      "  \n"
     ]
    }
   ],
   "source": [
    "for i in independents.columns:\n",
    "    \n",
    "    mean = independents[i].mean()\n",
    "    var = np.sqrt(independents[i].var())\n",
    "    \n",
    "    independents[i] = independents[i].apply(lambda x: (x - mean) / var)\n",
    "    #tmp = independents.\n",
    "    #independents.loc[:, i] (independents[i] - independents[i].mean()) / np.sqrt(independents[i].var())"
   ]
  },
  {
   "cell_type": "code",
   "execution_count": null,
   "metadata": {
    "collapsed": true
   },
   "outputs": [],
   "source": []
  },
  {
   "cell_type": "code",
   "execution_count": 30,
   "metadata": {
    "collapsed": true
   },
   "outputs": [],
   "source": [
    "np.random.seed(0)\n",
    "\n",
    "validx = np.random.choice(finaldf.index, size = int(finaldf.shape[0] * .1), replace = False)\n",
    "trainidx = [x for x in finaldf.index if x not in validx]"
   ]
  },
  {
   "cell_type": "code",
   "execution_count": 31,
   "metadata": {
    "collapsed": true
   },
   "outputs": [],
   "source": [
    "X_train = independents.iloc[trainidx].values\n",
    "X_val = independents.iloc[validx].values"
   ]
  },
  {
   "cell_type": "code",
   "execution_count": 32,
   "metadata": {
    "collapsed": true
   },
   "outputs": [],
   "source": [
    "appearance_train = targets[\"review/appearance\"].iloc[trainidx].values\n",
    "aroma_train = targets[\"review/aroma\"].iloc[trainidx].values\n",
    "overall_train = targets[\"review/overall\"].iloc[trainidx].values\n",
    "palate_train = targets[\"review/palate\"].iloc[trainidx].values\n",
    "taste_train = targets[\"review/taste\"].iloc[trainidx].values\n",
    "\n",
    "appearance_val = targets[\"review/appearance\"].iloc[validx].values\n",
    "aroma_val = targets[\"review/aroma\"].iloc[validx].values\n",
    "overall_val = targets[\"review/overall\"].iloc[validx].values\n",
    "palate_val = targets[\"review/palate\"].iloc[validx].values\n",
    "taste_val = targets[\"review/taste\"].iloc[validx].values\n",
    "\n"
   ]
  },
  {
   "cell_type": "code",
   "execution_count": 33,
   "metadata": {
    "collapsed": true
   },
   "outputs": [],
   "source": [
    "input_size = X_train.shape[1]\n",
    "epochs = 20"
   ]
  },
  {
   "cell_type": "markdown",
   "metadata": {},
   "source": [
    "### Appearance"
   ]
  },
  {
   "cell_type": "code",
   "execution_count": 34,
   "metadata": {
    "collapsed": true
   },
   "outputs": [],
   "source": [
    "network = FullyConnectedNeuralNetwork(\n",
    "    layers = [\n",
    "    Layer(input_size),\n",
    "    Layer(16, Sigmoid()),\n",
    "    Layer(8, Sigmoid()),\n",
    "    Layer(4, Sigmoid()),\n",
    "    Layer(1)\n",
    "    ],\n",
    "    loss = SquaredErrorLoss(),\n",
    "    learning_rate = 10e-6\n",
    ")"
   ]
  },
  {
   "cell_type": "code",
   "execution_count": null,
   "metadata": {},
   "outputs": [
    {
     "name": "stdout",
     "output_type": "stream",
     "text": [
      "Training MSE for epoch 1: 1.797263\n",
      "Validation MSE for epoch 1: 0.342958\n",
      "\n",
      "Training MSE for epoch 2: 0.347315\n",
      "Validation MSE for epoch 2: 0.337367\n",
      "\n",
      "Training MSE for epoch 3: 0.341712\n",
      "Validation MSE for epoch 3: 0.332417\n",
      "\n",
      "Training MSE for epoch 4: 0.336544\n",
      "Validation MSE for epoch 4: 0.327857\n",
      "\n",
      "Training MSE for epoch 5: 0.331749\n",
      "Validation MSE for epoch 5: 0.323635\n",
      "\n",
      "Training MSE for epoch 6: 0.327279\n",
      "Validation MSE for epoch 6: 0.319709\n",
      "\n",
      "Training MSE for epoch 7: 0.323094\n",
      "Validation MSE for epoch 7: 0.316041\n",
      "\n",
      "Training MSE for epoch 8: 0.31916\n",
      "Validation MSE for epoch 8: 0.312598\n",
      "\n",
      "Training MSE for epoch 9: 0.315447\n",
      "Validation MSE for epoch 9: 0.309355\n",
      "\n",
      "Training MSE for epoch 10: 0.31193\n",
      "Validation MSE for epoch 10: 0.306288\n",
      "\n",
      "Training MSE for epoch 11: 0.308588\n",
      "Validation MSE for epoch 11: 0.303378\n",
      "\n",
      "Training MSE for epoch 12: 0.305402\n",
      "Validation MSE for epoch 12: 0.300609\n",
      "\n",
      "Training MSE for epoch 13: 0.302356\n",
      "Validation MSE for epoch 13: 0.297966\n",
      "\n"
     ]
    }
   ],
   "source": [
    "network.run_num_epochs(epochs, \n",
    "                       X_train, \n",
    "                       appearance_train,\n",
    "                       X_val,\n",
    "                       appearance_val)"
   ]
  },
  {
   "cell_type": "code",
   "execution_count": 8,
   "metadata": {
    "scrolled": true
   },
   "outputs": [
    {
     "name": "stdout",
     "output_type": "stream",
     "text": [
      "Training MSE for epoch 1: 1.479282\n",
      "Validation MSE for epoch 1: 0.340901\n",
      "\n",
      "Training MSE for epoch 2: 0.346946\n",
      "Validation MSE for epoch 2: 0.340625\n",
      "\n",
      "Training MSE for epoch 3: 0.344386\n",
      "Validation MSE for epoch 3: 0.335832\n",
      "\n",
      "Training MSE for epoch 4: 0.340749\n",
      "Validation MSE for epoch 4: 0.334466\n",
      "\n",
      "Training MSE for epoch 5: 0.339763\n",
      "Validation MSE for epoch 5: 0.333616\n",
      "\n",
      "Training MSE for epoch 6: 0.339324\n",
      "Validation MSE for epoch 6: 0.333033\n",
      "\n",
      "Training MSE for epoch 7: 0.338825\n",
      "Validation MSE for epoch 7: 0.332456\n",
      "\n",
      "Training MSE for epoch 8: 0.338363\n",
      "Validation MSE for epoch 8: 0.331829\n",
      "\n",
      "Training MSE for epoch 9: 0.337938\n",
      "Validation MSE for epoch 9: 0.331236\n",
      "\n",
      "Training MSE for epoch 10: 0.337512\n",
      "Validation MSE for epoch 10: 0.330665\n",
      "\n",
      "Training MSE for epoch 11: 0.336968\n",
      "Validation MSE for epoch 11: 0.329986\n",
      "\n",
      "Training MSE for epoch 12: 0.336433\n",
      "Validation MSE for epoch 12: 0.329349\n",
      "\n",
      "Training MSE for epoch 13: 0.336023\n",
      "Validation MSE for epoch 13: 0.328801\n",
      "\n",
      "Training MSE for epoch 14: 0.33562\n",
      "Validation MSE for epoch 14: 0.32829\n",
      "\n",
      "Training MSE for epoch 15: 0.335254\n",
      "Validation MSE for epoch 15: 0.327766\n",
      "\n",
      "Training MSE for epoch 16: 0.334899\n",
      "Validation MSE for epoch 16: 0.327236\n",
      "\n",
      "Training MSE for epoch 17: 0.334555\n",
      "Validation MSE for epoch 17: 0.326733\n",
      "\n",
      "Training MSE for epoch 18: 0.334199\n",
      "Validation MSE for epoch 18: 0.326267\n",
      "\n",
      "Training MSE for epoch 19: 0.333869\n",
      "Validation MSE for epoch 19: 0.325791\n",
      "\n",
      "Training MSE for epoch 20: 0.333527\n",
      "Validation MSE for epoch 20: 0.325358\n",
      "\n"
     ]
    }
   ],
   "source": [
    "network.run_num_epochs(epochs, \n",
    "                       X_train, \n",
    "                       appearance_train,\n",
    "                       X_val,\n",
    "                       appearance_val)"
   ]
  },
  {
   "cell_type": "markdown",
   "metadata": {},
   "source": [
    "## Aroma"
   ]
  },
  {
   "cell_type": "code",
   "execution_count": null,
   "metadata": {
    "collapsed": true
   },
   "outputs": [],
   "source": [
    "network = FullyConnectedNeuralNetwork(\n",
    "    layers = [\n",
    "    Layer(input_size),\n",
    "    Layer(16, Sigmoid()),\n",
    "    Layer(8, Sigmoid()),\n",
    "    Layer(4, Sigmoid()),\n",
    "    Layer(1)\n",
    "    ],\n",
    "    loss = SquaredErrorLoss(),\n",
    "    learning_rate = 10e-6\n",
    ")"
   ]
  },
  {
   "cell_type": "code",
   "execution_count": null,
   "metadata": {},
   "outputs": [],
   "source": [
    "network.run_num_epochs(epochs, \n",
    "                       X_train, \n",
    "                       aroma_train,\n",
    "                       X_val,\n",
    "                       aroma_val)"
   ]
  },
  {
   "cell_type": "markdown",
   "metadata": {},
   "source": [
    "## Palate"
   ]
  },
  {
   "cell_type": "code",
   "execution_count": null,
   "metadata": {
    "collapsed": true
   },
   "outputs": [],
   "source": [
    "network = FullyConnectedNeuralNetwork(\n",
    "    layers = [\n",
    "    Layer(input_size),\n",
    "    Layer(16, Sigmoid()),\n",
    "    Layer(8, Sigmoid()),\n",
    "    Layer(4, Sigmoid()),\n",
    "    Layer(1)\n",
    "    ],\n",
    "    loss = SquaredErrorLoss(),\n",
    "    learning_rate = 10e-6\n",
    ")"
   ]
  },
  {
   "cell_type": "code",
   "execution_count": null,
   "metadata": {},
   "outputs": [],
   "source": [
    "network.run_num_epochs(epochs, \n",
    "                       X_train, \n",
    "                       palate_train,\n",
    "                       X_val,\n",
    "                       palate_val)"
   ]
  },
  {
   "cell_type": "markdown",
   "metadata": {},
   "source": [
    "## Taste"
   ]
  },
  {
   "cell_type": "code",
   "execution_count": null,
   "metadata": {
    "collapsed": true
   },
   "outputs": [],
   "source": [
    "network = FullyConnectedNeuralNetwork(\n",
    "    layers = [\n",
    "    Layer(input_size),\n",
    "    Layer(16, Sigmoid()),\n",
    "    Layer(8, Sigmoid()),\n",
    "    Layer(4, Sigmoid()),\n",
    "    Layer(1)\n",
    "    ],\n",
    "    loss = SquaredErrorLoss(),\n",
    "    learning_rate = 10e-6\n",
    ")"
   ]
  },
  {
   "cell_type": "code",
   "execution_count": null,
   "metadata": {},
   "outputs": [],
   "source": [
    "network.run_num_epochs(epochs, \n",
    "                       X_train, \n",
    "                       taste_train,\n",
    "                       X_val,\n",
    "                       taste_val)"
   ]
  },
  {
   "cell_type": "markdown",
   "metadata": {},
   "source": [
    "## Overall"
   ]
  },
  {
   "cell_type": "code",
   "execution_count": null,
   "metadata": {
    "collapsed": true
   },
   "outputs": [],
   "source": [
    "network = FullyConnectedNeuralNetwork(\n",
    "    layers = [\n",
    "    Layer(input_size),\n",
    "    Layer(16, Sigmoid()),\n",
    "    Layer(8, Sigmoid()),\n",
    "    Layer(4, Sigmoid()),\n",
    "    Layer(1)\n",
    "    ],\n",
    "    loss = SquaredErrorLoss(),\n",
    "    learning_rate = 10e-6\n",
    ")"
   ]
  },
  {
   "cell_type": "code",
   "execution_count": null,
   "metadata": {},
   "outputs": [],
   "source": [
    "network.run_num_epochs(epochs, \n",
    "                       X_train, \n",
    "                       overall_train,\n",
    "                       X_val,\n",
    "                       overall_val)"
   ]
  },
  {
   "cell_type": "code",
   "execution_count": null,
   "metadata": {
    "collapsed": true
   },
   "outputs": [],
   "source": []
  }
 ],
 "metadata": {
  "kernelspec": {
   "display_name": "Python 3",
   "language": "python",
   "name": "python3"
  },
  "language_info": {
   "codemirror_mode": {
    "name": "ipython",
    "version": 3
   },
   "file_extension": ".py",
   "mimetype": "text/x-python",
   "name": "python",
   "nbconvert_exporter": "python",
   "pygments_lexer": "ipython3",
   "version": "3.6.2"
  }
 },
 "nbformat": 4,
 "nbformat_minor": 2
}
