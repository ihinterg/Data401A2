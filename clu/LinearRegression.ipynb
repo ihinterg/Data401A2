{
 "cells": [
  {
   "cell_type": "code",
   "execution_count": 28,
   "metadata": {
    "collapsed": true
   },
   "outputs": [],
   "source": [
    "import pandas as pd\n",
    "import numpy as np\n",
    "import matplotlib.pyplot as plt\n",
    "from sklearn import linear_model\n",
    "% matplotlib inline"
   ]
  },
  {
   "cell_type": "code",
   "execution_count": 29,
   "metadata": {
    "collapsed": true
   },
   "outputs": [],
   "source": [
    "groupcols_pos = [\n",
    "    'part_of_speech_#', 'part_of_speech_$',\n",
    "    'part_of_speech_\\'\\'', 'part_of_speech_(', 'part_of_speech_)',\n",
    "    'part_of_speech_:', 'part_of_speech_CC', 'part_of_speech_CD',\n",
    "    'part_of_speech_DT', 'part_of_speech_IN', 'part_of_speech_JJ',\n",
    "    'part_of_speech_JJR', 'part_of_speech_JJS', 'part_of_speech_LS',\n",
    "    'part_of_speech_MD', 'part_of_speech_NN', 'part_of_speech_NNS',\n",
    "    'part_of_speech_POS', 'part_of_speech_PRP', 'part_of_speech_PRP$',\n",
    "    'part_of_speech_RB', 'part_of_speech_RBR', 'part_of_speech_TO',\n",
    "    'part_of_speech_VB', 'part_of_speech_VBD', 'part_of_speech_VBG',\n",
    "    'part_of_speech_VBN', 'part_of_speech_VBP', 'part_of_speech_VBZ',\n",
    "    'part_of_speech_WDT', 'part_of_speech_WP', 'part_of_speech_WP$',\n",
    "    'part_of_speech_WRB', 'part_of_speech_``'\n",
    "    \n",
    "]\n",
    "\n",
    "groupcols = ['sentiment_anger', 'sentiment_anticipation',\n",
    "             'sentiment_disgust', 'sentiment_fear', 'sentiment_joy',\n",
    "             'sentiment_negative', 'sentiment_positive', 'sentiment_sadness',\n",
    "             'sentiment_surprise', 'sentiment_trust']\n",
    "\n",
    "indepcols = ['beer/ABV',\n",
    "             'stopwordcount', 'charcount', 'cursewordcount', 'uniquecursewordcount',\n",
    "             'exceptional', 'excellent', 'fantastic', 'wonderful', 'highly', 'ok',\n",
    "             'average', 'bad', 'corn', 'sipper', 'group_lda',\n",
    "            ]\n",
    "\n",
    "indepcols = indepcols + groupcols + groupcols_pos + [\"proportion_unique\"]\n",
    "\n",
    "depcols = ['review/appearance', 'review/aroma', 'review/overall',\n",
    "           'review/palate', 'review/taste']"
   ]
  },
  {
   "cell_type": "code",
   "execution_count": 40,
   "metadata": {},
   "outputs": [
    {
     "data": {
      "text/html": [
       "<div>\n",
       "<style>\n",
       "    .dataframe thead tr:only-child th {\n",
       "        text-align: right;\n",
       "    }\n",
       "\n",
       "    .dataframe thead th {\n",
       "        text-align: left;\n",
       "    }\n",
       "\n",
       "    .dataframe tbody tr th {\n",
       "        vertical-align: top;\n",
       "    }\n",
       "</style>\n",
       "<table border=\"1\" class=\"dataframe\">\n",
       "  <thead>\n",
       "    <tr style=\"text-align: right;\">\n",
       "      <th></th>\n",
       "      <th>beer/ABV</th>\n",
       "      <th>stopwordcount</th>\n",
       "      <th>charcount</th>\n",
       "      <th>cursewordcount</th>\n",
       "      <th>uniquecursewordcount</th>\n",
       "      <th>exceptional</th>\n",
       "      <th>excellent</th>\n",
       "      <th>fantastic</th>\n",
       "      <th>wonderful</th>\n",
       "      <th>highly</th>\n",
       "      <th>...</th>\n",
       "      <th>part_of_speech_VBG</th>\n",
       "      <th>part_of_speech_VBN</th>\n",
       "      <th>part_of_speech_VBP</th>\n",
       "      <th>part_of_speech_VBZ</th>\n",
       "      <th>part_of_speech_WDT</th>\n",
       "      <th>part_of_speech_WP</th>\n",
       "      <th>part_of_speech_WP$</th>\n",
       "      <th>part_of_speech_WRB</th>\n",
       "      <th>part_of_speech_``</th>\n",
       "      <th>proportion_unique</th>\n",
       "    </tr>\n",
       "  </thead>\n",
       "  <tbody>\n",
       "    <tr>\n",
       "      <th>0</th>\n",
       "      <td>5.0</td>\n",
       "      <td>42</td>\n",
       "      <td>415</td>\n",
       "      <td>0</td>\n",
       "      <td>0</td>\n",
       "      <td>0</td>\n",
       "      <td>0</td>\n",
       "      <td>0</td>\n",
       "      <td>0</td>\n",
       "      <td>0</td>\n",
       "      <td>...</td>\n",
       "      <td>0.028571</td>\n",
       "      <td>0.000</td>\n",
       "      <td>0.000</td>\n",
       "      <td>0.000000</td>\n",
       "      <td>0.000</td>\n",
       "      <td>0.0</td>\n",
       "      <td>0.0</td>\n",
       "      <td>0.0</td>\n",
       "      <td>0.0</td>\n",
       "      <td>0.714286</td>\n",
       "    </tr>\n",
       "    <tr>\n",
       "      <th>1</th>\n",
       "      <td>11.0</td>\n",
       "      <td>42</td>\n",
       "      <td>450</td>\n",
       "      <td>0</td>\n",
       "      <td>0</td>\n",
       "      <td>0</td>\n",
       "      <td>0</td>\n",
       "      <td>0</td>\n",
       "      <td>0</td>\n",
       "      <td>0</td>\n",
       "      <td>...</td>\n",
       "      <td>0.000000</td>\n",
       "      <td>0.000</td>\n",
       "      <td>0.000</td>\n",
       "      <td>0.000000</td>\n",
       "      <td>0.000</td>\n",
       "      <td>0.0</td>\n",
       "      <td>0.0</td>\n",
       "      <td>0.0</td>\n",
       "      <td>0.0</td>\n",
       "      <td>0.606557</td>\n",
       "    </tr>\n",
       "    <tr>\n",
       "      <th>2</th>\n",
       "      <td>4.7</td>\n",
       "      <td>21</td>\n",
       "      <td>312</td>\n",
       "      <td>0</td>\n",
       "      <td>0</td>\n",
       "      <td>0</td>\n",
       "      <td>0</td>\n",
       "      <td>0</td>\n",
       "      <td>0</td>\n",
       "      <td>0</td>\n",
       "      <td>...</td>\n",
       "      <td>0.000000</td>\n",
       "      <td>0.000</td>\n",
       "      <td>0.000</td>\n",
       "      <td>0.021277</td>\n",
       "      <td>0.000</td>\n",
       "      <td>0.0</td>\n",
       "      <td>0.0</td>\n",
       "      <td>0.0</td>\n",
       "      <td>0.0</td>\n",
       "      <td>0.681159</td>\n",
       "    </tr>\n",
       "    <tr>\n",
       "      <th>3</th>\n",
       "      <td>4.4</td>\n",
       "      <td>27</td>\n",
       "      <td>312</td>\n",
       "      <td>0</td>\n",
       "      <td>0</td>\n",
       "      <td>0</td>\n",
       "      <td>0</td>\n",
       "      <td>0</td>\n",
       "      <td>0</td>\n",
       "      <td>0</td>\n",
       "      <td>...</td>\n",
       "      <td>0.000000</td>\n",
       "      <td>0.000</td>\n",
       "      <td>0.000</td>\n",
       "      <td>0.023256</td>\n",
       "      <td>0.000</td>\n",
       "      <td>0.0</td>\n",
       "      <td>0.0</td>\n",
       "      <td>0.0</td>\n",
       "      <td>0.0</td>\n",
       "      <td>0.581081</td>\n",
       "    </tr>\n",
       "    <tr>\n",
       "      <th>4</th>\n",
       "      <td>4.4</td>\n",
       "      <td>49</td>\n",
       "      <td>383</td>\n",
       "      <td>0</td>\n",
       "      <td>0</td>\n",
       "      <td>0</td>\n",
       "      <td>0</td>\n",
       "      <td>0</td>\n",
       "      <td>0</td>\n",
       "      <td>0</td>\n",
       "      <td>...</td>\n",
       "      <td>0.032000</td>\n",
       "      <td>0.016</td>\n",
       "      <td>0.008</td>\n",
       "      <td>0.008000</td>\n",
       "      <td>0.008</td>\n",
       "      <td>0.0</td>\n",
       "      <td>0.0</td>\n",
       "      <td>0.0</td>\n",
       "      <td>0.0</td>\n",
       "      <td>0.612745</td>\n",
       "    </tr>\n",
       "  </tbody>\n",
       "</table>\n",
       "<p>5 rows × 61 columns</p>\n",
       "</div>"
      ],
      "text/plain": [
       "   beer/ABV  stopwordcount  charcount  cursewordcount  uniquecursewordcount  \\\n",
       "0       5.0             42        415               0                     0   \n",
       "1      11.0             42        450               0                     0   \n",
       "2       4.7             21        312               0                     0   \n",
       "3       4.4             27        312               0                     0   \n",
       "4       4.4             49        383               0                     0   \n",
       "\n",
       "   exceptional  excellent  fantastic  wonderful  highly        ...          \\\n",
       "0            0          0          0          0       0        ...           \n",
       "1            0          0          0          0       0        ...           \n",
       "2            0          0          0          0       0        ...           \n",
       "3            0          0          0          0       0        ...           \n",
       "4            0          0          0          0       0        ...           \n",
       "\n",
       "   part_of_speech_VBG  part_of_speech_VBN  part_of_speech_VBP  \\\n",
       "0            0.028571               0.000               0.000   \n",
       "1            0.000000               0.000               0.000   \n",
       "2            0.000000               0.000               0.000   \n",
       "3            0.000000               0.000               0.000   \n",
       "4            0.032000               0.016               0.008   \n",
       "\n",
       "   part_of_speech_VBZ  part_of_speech_WDT  part_of_speech_WP  \\\n",
       "0            0.000000               0.000                0.0   \n",
       "1            0.000000               0.000                0.0   \n",
       "2            0.021277               0.000                0.0   \n",
       "3            0.023256               0.000                0.0   \n",
       "4            0.008000               0.008                0.0   \n",
       "\n",
       "   part_of_speech_WP$  part_of_speech_WRB  part_of_speech_``  \\\n",
       "0                 0.0                 0.0                0.0   \n",
       "1                 0.0                 0.0                0.0   \n",
       "2                 0.0                 0.0                0.0   \n",
       "3                 0.0                 0.0                0.0   \n",
       "4                 0.0                 0.0                0.0   \n",
       "\n",
       "   proportion_unique  \n",
       "0           0.714286  \n",
       "1           0.606557  \n",
       "2           0.681159  \n",
       "3           0.581081  \n",
       "4           0.612745  \n",
       "\n",
       "[5 rows x 61 columns]"
      ]
     },
     "execution_count": 40,
     "metadata": {},
     "output_type": "execute_result"
    }
   ],
   "source": [
    "df = pd.read_csv(\"all_attributes.csv\").dropna()\n",
    "targets = df[depcols]\n",
    "independents = df[indepcols]\n",
    "independents.head()"
   ]
  },
  {
   "cell_type": "code",
   "execution_count": null,
   "metadata": {
    "collapsed": true
   },
   "outputs": [],
   "source": []
  },
  {
   "cell_type": "code",
   "execution_count": 41,
   "metadata": {},
   "outputs": [
    {
     "data": {
      "text/html": [
       "<div>\n",
       "<style>\n",
       "    .dataframe thead tr:only-child th {\n",
       "        text-align: right;\n",
       "    }\n",
       "\n",
       "    .dataframe thead th {\n",
       "        text-align: left;\n",
       "    }\n",
       "\n",
       "    .dataframe tbody tr th {\n",
       "        vertical-align: top;\n",
       "    }\n",
       "</style>\n",
       "<table border=\"1\" class=\"dataframe\">\n",
       "  <thead>\n",
       "    <tr style=\"text-align: right;\">\n",
       "      <th></th>\n",
       "      <th>review/appearance</th>\n",
       "      <th>review/aroma</th>\n",
       "      <th>review/overall</th>\n",
       "      <th>review/palate</th>\n",
       "      <th>review/taste</th>\n",
       "    </tr>\n",
       "  </thead>\n",
       "  <tbody>\n",
       "    <tr>\n",
       "      <th>0</th>\n",
       "      <td>4.0</td>\n",
       "      <td>4.0</td>\n",
       "      <td>4.0</td>\n",
       "      <td>4.0</td>\n",
       "      <td>4.0</td>\n",
       "    </tr>\n",
       "    <tr>\n",
       "      <th>1</th>\n",
       "      <td>4.0</td>\n",
       "      <td>3.5</td>\n",
       "      <td>3.5</td>\n",
       "      <td>3.5</td>\n",
       "      <td>3.0</td>\n",
       "    </tr>\n",
       "    <tr>\n",
       "      <th>2</th>\n",
       "      <td>3.5</td>\n",
       "      <td>4.0</td>\n",
       "      <td>3.5</td>\n",
       "      <td>3.5</td>\n",
       "      <td>3.5</td>\n",
       "    </tr>\n",
       "    <tr>\n",
       "      <th>3</th>\n",
       "      <td>3.0</td>\n",
       "      <td>3.0</td>\n",
       "      <td>2.5</td>\n",
       "      <td>3.0</td>\n",
       "      <td>3.0</td>\n",
       "    </tr>\n",
       "    <tr>\n",
       "      <th>4</th>\n",
       "      <td>4.0</td>\n",
       "      <td>3.0</td>\n",
       "      <td>3.0</td>\n",
       "      <td>3.5</td>\n",
       "      <td>2.5</td>\n",
       "    </tr>\n",
       "  </tbody>\n",
       "</table>\n",
       "</div>"
      ],
      "text/plain": [
       "   review/appearance  review/aroma  review/overall  review/palate  \\\n",
       "0                4.0           4.0             4.0            4.0   \n",
       "1                4.0           3.5             3.5            3.5   \n",
       "2                3.5           4.0             3.5            3.5   \n",
       "3                3.0           3.0             2.5            3.0   \n",
       "4                4.0           3.0             3.0            3.5   \n",
       "\n",
       "   review/taste  \n",
       "0           4.0  \n",
       "1           3.0  \n",
       "2           3.5  \n",
       "3           3.0  \n",
       "4           2.5  "
      ]
     },
     "execution_count": 41,
     "metadata": {},
     "output_type": "execute_result"
    }
   ],
   "source": [
    "targets.head()"
   ]
  },
  {
   "cell_type": "markdown",
   "metadata": {},
   "source": [
    "#### Appearance"
   ]
  },
  {
   "cell_type": "code",
   "execution_count": 42,
   "metadata": {},
   "outputs": [
    {
     "name": "stdout",
     "output_type": "stream",
     "text": [
      "R^2: 0.143279736366\n"
     ]
    }
   ],
   "source": [
    "X = independents\n",
    "y = targets.loc[:, \"review/appearance\"]\n",
    "\n",
    "regr = linear_model.LinearRegression().fit(X, y)\n",
    "print(\"R^2: \" + str(regr.score(X, y)))"
   ]
  },
  {
   "cell_type": "markdown",
   "metadata": {},
   "source": [
    "#### Aroma"
   ]
  },
  {
   "cell_type": "code",
   "execution_count": 43,
   "metadata": {},
   "outputs": [
    {
     "name": "stdout",
     "output_type": "stream",
     "text": [
      "R^2: 0.230254102673\n"
     ]
    }
   ],
   "source": [
    "X = independents\n",
    "y = targets.loc[:, \"review/aroma\"]\n",
    "\n",
    "regr = linear_model.LinearRegression().fit(X, y)\n",
    "print(\"R^2: \" + str(regr.score(X, y)))"
   ]
  },
  {
   "cell_type": "markdown",
   "metadata": {},
   "source": [
    "#### Palate"
   ]
  },
  {
   "cell_type": "code",
   "execution_count": 44,
   "metadata": {},
   "outputs": [
    {
     "name": "stdout",
     "output_type": "stream",
     "text": [
      "R^2: 0.19787683925\n"
     ]
    }
   ],
   "source": [
    "X = independents\n",
    "y = targets.loc[:, \"review/palate\"]\n",
    "\n",
    "regr = linear_model.LinearRegression().fit(X, y)\n",
    "print(\"R^2: \" + str(regr.score(X, y)))"
   ]
  },
  {
   "cell_type": "markdown",
   "metadata": {},
   "source": [
    "#### Taste"
   ]
  },
  {
   "cell_type": "code",
   "execution_count": 45,
   "metadata": {},
   "outputs": [
    {
     "name": "stdout",
     "output_type": "stream",
     "text": [
      "R^2: 0.225561746649\n"
     ]
    }
   ],
   "source": [
    "X = independents\n",
    "y = targets.loc[:, \"review/taste\"]\n",
    "\n",
    "regr = linear_model.LinearRegression().fit(X, y)\n",
    "print(\"R^2: \" + str(regr.score(X, y)))"
   ]
  },
  {
   "cell_type": "markdown",
   "metadata": {},
   "source": [
    "#### Overall"
   ]
  },
  {
   "cell_type": "code",
   "execution_count": 46,
   "metadata": {},
   "outputs": [
    {
     "name": "stdout",
     "output_type": "stream",
     "text": [
      "R^2: 0.129786451452\n"
     ]
    }
   ],
   "source": [
    "X = independents\n",
    "y = targets.loc[:, \"review/overall\"]\n",
    "\n",
    "regr = linear_model.LinearRegression().fit(X, y)\n",
    "print(\"R^2: \" + str(regr.score(X, y)))"
   ]
  }
 ],
 "metadata": {
  "kernelspec": {
   "display_name": "Python 3",
   "language": "python",
   "name": "python3"
  },
  "language_info": {
   "codemirror_mode": {
    "name": "ipython",
    "version": 3
   },
   "file_extension": ".py",
   "mimetype": "text/x-python",
   "name": "python",
   "nbconvert_exporter": "python",
   "pygments_lexer": "ipython3",
   "version": "3.6.2"
  }
 },
 "nbformat": 4,
 "nbformat_minor": 2
}
