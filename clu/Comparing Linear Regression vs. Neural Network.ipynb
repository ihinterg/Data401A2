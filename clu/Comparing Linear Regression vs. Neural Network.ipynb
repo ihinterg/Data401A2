{
 "cells": [
  {
   "cell_type": "code",
   "execution_count": 21,
   "metadata": {
    "collapsed": true
   },
   "outputs": [],
   "source": [
    "import pandas as pd\n",
    "import json\n",
    "from sklearn import linear_model\n",
    "from feedforwardNeuralNetwork import *"
   ]
  },
  {
   "cell_type": "code",
   "execution_count": 102,
   "metadata": {
    "collapsed": true
   },
   "outputs": [],
   "source": [
    "taste_var = ['proportion_unique',\n",
    " 'charcount',\n",
    " 'sentiment_joy',\n",
    " 'part_of_speech_NN',\n",
    " 'sentiment_sadness',\n",
    " 'sentiment_positive',\n",
    " 'sentiment_anticipation',\n",
    " 'sentiment_anger',\n",
    " 'sentiment_surprise',\n",
    " 'part_of_speech_NNS',\n",
    " 'sentiment_negative',\n",
    " 'sentiment_trust',\n",
    " 'sentiment_disgust',\n",
    " 'part_of_speech_CC',\n",
    " 'sentiment_fear',\n",
    " 'stopwordcount',\n",
    " 'uniquecursewordcount',\n",
    " 'part_of_speech_VBD',\n",
    " 'part_of_speech_RB',\n",
    " 'part_of_speech_VBN',\n",
    " 'part_of_speech_JJR',\n",
    " 'part_of_speech_DT',\n",
    " 'nothing',\n",
    " 'part_of_speech_CD',\n",
    " 'part_of_speech_$',\n",
    " 'corn_x',\n",
    " 'fingered',\n",
    " 'fresher',\n",
    " 'part_of_speech_VBG',\n",
    " 'part_of_speech_WP',\n",
    " 'amstel']\n",
    "appearance_var = ['proportion_unique',\n",
    " 'stopwordcount',\n",
    " 'part_of_speech_NN',\n",
    " 'sentiment_joy',\n",
    " 'sentiment_sadness',\n",
    " 'part_of_speech_NNS',\n",
    " 'part_of_speech_IN',\n",
    " 'part_of_speech_JJ',\n",
    " 'part_of_speech_RB',\n",
    " 'part_of_speech_VBN',\n",
    " 'part_of_speech_VB',\n",
    " 'part_of_speech_VBG',\n",
    " 'part_of_speech_CD',\n",
    " 'part_of_speech_PRP',\n",
    " 'part_of_speech_VBZ',\n",
    " 'part_of_speech_MD',\n",
    " 'part_of_speech_VBP',\n",
    " 'part_of_speech_VBD',\n",
    " 'part_of_speech_PRP$',\n",
    " 'sentiment_negative',\n",
    " 'part_of_speech_TO',\n",
    " 'part_of_speech_JJS',\n",
    " 'part_of_speech_DT',\n",
    " 'charcount',\n",
    " 'part_of_speech_POS',\n",
    " 'sentiment_anticipation',\n",
    " 'uniquecursewordcount',\n",
    " 'part_of_speech_RBR',\n",
    " 'part_of_speech_WRB',\n",
    " 'sentiment_fear',\n",
    " 'part_of_speech_:',\n",
    " 'worse',\n",
    " 'sentiment_trust',\n",
    " 'sentiment_disgust',\n",
    " 'part_of_speech_WP',\n",
    " 'bourbon',\n",
    " 'sentiment_anger',\n",
    " 'fresher',\n",
    " 'corn_x']\n",
    "aroma_var = ['proportion_unique',\n",
    " 'charcount',\n",
    " 'sentiment_joy',\n",
    " 'part_of_speech_NN',\n",
    " 'sentiment_sadness',\n",
    " 'part_of_speech_IN',\n",
    " 'part_of_speech_NNS',\n",
    " 'part_of_speech_RB',\n",
    " 'sentiment_positive',\n",
    " 'sentiment_surprise',\n",
    " 'sentiment_anger',\n",
    " 'sentiment_anticipation',\n",
    " 'sentiment_negative',\n",
    " 'sentiment_trust',\n",
    " 'sentiment_disgust',\n",
    " 'sentiment_fear',\n",
    " 'part_of_speech_CC',\n",
    " 'stopwordcount',\n",
    " 'uniquecursewordcount',\n",
    " 'part_of_speech_VBD',\n",
    " 'part_of_speech_DT',\n",
    " 'part_of_speech_JJ',\n",
    " 'part_of_speech_JJR',\n",
    " 'part_of_speech_WDT',\n",
    " 'part_of_speech_$',\n",
    " 'worse',\n",
    " 'nothing',\n",
    " 'part_of_speech_RBR',\n",
    " \"part_of_speech_''\",\n",
    " 'group_lda',\n",
    " 'corn_x']\n",
    "palate_var = ['proportion_unique',\n",
    " 'charcount',\n",
    " 'sentiment_joy',\n",
    " 'part_of_speech_NN',\n",
    " 'sentiment_sadness',\n",
    " 'part_of_speech_IN',\n",
    " 'part_of_speech_NNS',\n",
    " 'part_of_speech_JJ',\n",
    " 'part_of_speech_RB',\n",
    " 'sentiment_positive',\n",
    " 'sentiment_anticipation',\n",
    " 'sentiment_anger',\n",
    " 'sentiment_surprise',\n",
    " 'sentiment_trust',\n",
    " 'sentiment_negative',\n",
    " 'sentiment_disgust',\n",
    " 'sentiment_fear',\n",
    " 'part_of_speech_CC',\n",
    " 'stopwordcount',\n",
    " 'uniquecursewordcount',\n",
    " 'part_of_speech_VBD',\n",
    " 'part_of_speech_DT',\n",
    " 'part_of_speech_RBR',\n",
    " 'part_of_speech_WDT',\n",
    " 'worse',\n",
    " 'corn_x',\n",
    " 'cheap',\n",
    " 'part_of_speech_JJR',\n",
    " 'features',\n",
    " 'munich',\n",
    " 'stale',\n",
    " 'part_of_speech_WP']\n",
    "overall_var = ['proportion_unique',\n",
    " 'charcount',\n",
    " 'sentiment_joy',\n",
    " 'part_of_speech_NN',\n",
    " 'part_of_speech_IN',\n",
    " 'part_of_speech_JJ',\n",
    " 'part_of_speech_NNS',\n",
    " 'part_of_speech_RB',\n",
    " 'part_of_speech_VBN',\n",
    " 'part_of_speech_VB',\n",
    " 'part_of_speech_VBG',\n",
    " 'part_of_speech_VBZ',\n",
    " 'part_of_speech_CD',\n",
    " 'sentiment_positive',\n",
    " 'sentiment_sadness',\n",
    " 'sentiment_anticipation',\n",
    " 'part_of_speech_PRP',\n",
    " 'sentiment_anger',\n",
    " 'sentiment_trust',\n",
    " 'sentiment_surprise',\n",
    " 'sentiment_negative',\n",
    " 'uniquecursewordcount',\n",
    " 'sentiment_disgust',\n",
    " 'part_of_speech_CC',\n",
    " 'stopwordcount',\n",
    " 'sentiment_fear',\n",
    " 'part_of_speech_JJS',\n",
    " 'part_of_speech_VBD',\n",
    " 'worse',\n",
    " 'corn_x',\n",
    " 'part_of_speech_PRP$']"
   ]
  },
  {
   "cell_type": "code",
   "execution_count": 101,
   "metadata": {},
   "outputs": [
    {
     "data": {
      "text/plain": [
       "['part_of_speech_#',\n",
       " 'part_of_speech_$',\n",
       " \"part_of_speech_''\",\n",
       " 'part_of_speech_(',\n",
       " 'part_of_speech_)',\n",
       " 'part_of_speech_:',\n",
       " 'part_of_speech_CC',\n",
       " 'part_of_speech_CD',\n",
       " 'part_of_speech_DT',\n",
       " 'part_of_speech_IN',\n",
       " 'part_of_speech_JJ',\n",
       " 'part_of_speech_JJR',\n",
       " 'part_of_speech_JJS',\n",
       " 'part_of_speech_LS',\n",
       " 'part_of_speech_MD',\n",
       " 'part_of_speech_NN',\n",
       " 'part_of_speech_NNS',\n",
       " 'part_of_speech_POS',\n",
       " 'part_of_speech_PRP',\n",
       " 'part_of_speech_PRP$',\n",
       " 'part_of_speech_RB',\n",
       " 'part_of_speech_RBR',\n",
       " 'part_of_speech_TO',\n",
       " 'part_of_speech_VB',\n",
       " 'part_of_speech_VBD',\n",
       " 'part_of_speech_VBG',\n",
       " 'part_of_speech_VBN',\n",
       " 'part_of_speech_VBP',\n",
       " 'part_of_speech_VBZ',\n",
       " 'part_of_speech_WDT',\n",
       " 'part_of_speech_WP',\n",
       " 'part_of_speech_WP$',\n",
       " 'part_of_speech_WRB',\n",
       " 'part_of_speech_``']"
      ]
     },
     "execution_count": 101,
     "metadata": {},
     "output_type": "execute_result"
    }
   ],
   "source": [
    "[x for x in df.columns if \"part_of\" in x ]"
   ]
  },
  {
   "cell_type": "code",
   "execution_count": 73,
   "metadata": {},
   "outputs": [],
   "source": [
    "depcols = ['review/appearance', 'review/aroma', 'review/overall',\n",
    "           'review/palate', 'review/taste']\n",
    "df = pd.read_csv(\"for_linear_regression.csv\")\n",
    "df.dropna()\n",
    "\n",
    "targets = df[depcols]\n",
    "independents = df.drop(depcols, axis = 1)\n",
    "\n",
    "independents_nn = independents.copy(deep = True)\n",
    "\n",
    "for i in independents_nn.columns:\n",
    "    \n",
    "    mean = independents_nn[i].mean()\n",
    "    var = np.sqrt(independents_nn[i].var())\n",
    "    \n",
    "    independents_nn[i] = independents_nn[i].apply(lambda x: (x - mean) / var)"
   ]
  },
  {
   "cell_type": "code",
   "execution_count": 83,
   "metadata": {},
   "outputs": [],
   "source": [
    "np.random.seed(0)\n",
    "\n",
    "validx = np.random.choice(independents.index, size = int(independents.shape[0] * .1), replace = False)\n",
    "trainidx = np.array([x for x in independents.index if x not in validx])"
   ]
  },
  {
   "cell_type": "code",
   "execution_count": 84,
   "metadata": {
    "collapsed": true
   },
   "outputs": [],
   "source": [
    "X_train = independents.iloc[trainidx].values\n",
    "X_val = independents.iloc[validx].values"
   ]
  },
  {
   "cell_type": "markdown",
   "metadata": {},
   "source": [
    "## Appearance"
   ]
  },
  {
   "cell_type": "code",
   "execution_count": 103,
   "metadata": {},
   "outputs": [
    {
     "name": "stdout",
     "output_type": "stream",
     "text": [
      "Train R^2: 0.0748995901294\n",
      "Val MSE: 0.323669874692\n"
     ]
    }
   ],
   "source": [
    "dep = \"review/appearance\"\n",
    "\n",
    "X_train = independents.loc[trainidx, appearance_var].values\n",
    "X_val = independents.loc[validx, appearance_var].values\n",
    "\n",
    "y_train = targets.iloc[trainidx].loc[:, dep].values\n",
    "y_val = targets.iloc[validx].loc[:, dep].values\n",
    "\n",
    "regr = linear_model.LinearRegression().fit(X_train, y_train)\n",
    "print(\"Train R^2: \" + str(regr.score(X_train, y_train)))\n",
    "print(\"Val MSE: \" + str(sum((regr.predict(X_val) - y_val) ** 2) / X_val.shape[0]))"
   ]
  },
  {
   "cell_type": "code",
   "execution_count": 108,
   "metadata": {
    "collapsed": true
   },
   "outputs": [],
   "source": [
    "input_size = X_train.shape[1]\n",
    "epochs = 20\n",
    "\n",
    "X_train = independents_nn.loc[trainidx, appearance_var].values\n",
    "X_val = independents_nn.loc[validx, appearance_var].values\n",
    "\n",
    "y_train = targets.iloc[trainidx].loc[:, dep].values\n",
    "y_val = targets.iloc[validx].loc[:, dep].values\n",
    "\n",
    "network = FullyConnectedNeuralNetwork(\n",
    "    layers = [\n",
    "        Layer(input_size),\n",
    "        Layer(16, Sigmoid()),\n",
    "        Layer(8, Sigmoid()),\n",
    "        Layer(4, Sigmoid()),\n",
    "        Layer(1)\n",
    "    ],\n",
    "    loss = SquaredErrorLoss(),\n",
    "    learning_rate = 10e-4\n",
    ")"
   ]
  },
  {
   "cell_type": "code",
   "execution_count": 113,
   "metadata": {},
   "outputs": [
    {
     "name": "stdout",
     "output_type": "stream",
     "text": [
      "Training MSE for epoch 1: 0.384778\n",
      "Validation MSE for epoch 1: 0.341124\n",
      "\n",
      "Training MSE for epoch 2: 0.339045\n",
      "Validation MSE for epoch 2: 0.335367\n",
      "\n",
      "Training MSE for epoch 3: 0.334711\n",
      "Validation MSE for epoch 3: 0.331647\n",
      "\n",
      "Training MSE for epoch 4: 0.331901\n",
      "Validation MSE for epoch 4: 0.329456\n",
      "\n",
      "Training MSE for epoch 5: 0.330071\n",
      "Validation MSE for epoch 5: 0.328141\n",
      "\n",
      "Training MSE for epoch 6: 0.328832\n",
      "Validation MSE for epoch 6: 0.327332\n",
      "\n",
      "Training MSE for epoch 7: 0.327986\n",
      "Validation MSE for epoch 7: 0.326834\n",
      "\n",
      "Training MSE for epoch 8: 0.32741\n",
      "Validation MSE for epoch 8: 0.326527\n",
      "\n",
      "Training MSE for epoch 9: 0.327017\n",
      "Validation MSE for epoch 9: 0.326333\n",
      "\n",
      "Training MSE for epoch 10: 0.326744\n",
      "Validation MSE for epoch 10: 0.326204\n",
      "\n",
      "Training MSE for epoch 11: 0.326548\n",
      "Validation MSE for epoch 11: 0.326112\n",
      "\n",
      "Training MSE for epoch 12: 0.326402\n",
      "Validation MSE for epoch 12: 0.32604\n",
      "\n",
      "Training MSE for epoch 13: 0.326288\n",
      "Validation MSE for epoch 13: 0.325981\n",
      "\n",
      "Training MSE for epoch 14: 0.326194\n",
      "Validation MSE for epoch 14: 0.32593\n",
      "\n",
      "Training MSE for epoch 15: 0.326115\n",
      "Validation MSE for epoch 15: 0.325886\n",
      "\n",
      "Training MSE for epoch 16: 0.326045\n",
      "Validation MSE for epoch 16: 0.325845\n",
      "\n",
      "Training MSE for epoch 17: 0.325982\n",
      "Validation MSE for epoch 17: 0.325809\n",
      "\n",
      "Training MSE for epoch 18: 0.325924\n",
      "Validation MSE for epoch 18: 0.325774\n",
      "\n",
      "Training MSE for epoch 19: 0.325869\n",
      "Validation MSE for epoch 19: 0.325742\n",
      "\n",
      "Training MSE for epoch 20: 0.325816\n",
      "Validation MSE for epoch 20: 0.325711\n",
      "\n"
     ]
    }
   ],
   "source": [
    "network.run_num_epochs(epochs,\n",
    "                       X_train,\n",
    "                       y_train,\n",
    "                       X_val,\n",
    "                       y_val,\n",
    "                 )"
   ]
  },
  {
   "cell_type": "markdown",
   "metadata": {},
   "source": [
    "## Aroma"
   ]
  },
  {
   "cell_type": "code",
   "execution_count": 115,
   "metadata": {},
   "outputs": [
    {
     "name": "stdout",
     "output_type": "stream",
     "text": [
      "Train R^2: 0.0955157692222\n",
      "Val MSE: 0.434387741988\n"
     ]
    }
   ],
   "source": [
    "dep = \"review/aroma\"\n",
    "\n",
    "X_train = independents.loc[trainidx, aroma_var].values\n",
    "X_val = independents.loc[validx, aroma_var].values\n",
    "\n",
    "y_train = targets.iloc[trainidx].loc[:, dep].values\n",
    "y_val = targets.iloc[validx].loc[:, dep].values\n",
    "\n",
    "regr = linear_model.LinearRegression().fit(X_train, y_train)\n",
    "print(\"Train R^2: \" + str(regr.score(X_train, y_train)))\n",
    "print(\"Val MSE: \" + str(sum((regr.predict(X_val) - y_val) ** 2) / X_val.shape[0]))"
   ]
  },
  {
   "cell_type": "code",
   "execution_count": 124,
   "metadata": {
    "collapsed": true
   },
   "outputs": [],
   "source": [
    "X_train = independents_nn.loc[trainidx, aroma_var].values\n",
    "X_val = independents_nn.loc[validx, aroma_var].values\n",
    "\n",
    "y_train = targets.iloc[trainidx].loc[:, dep].values\n",
    "y_val = targets.iloc[validx].loc[:, dep].values\n",
    "\n",
    "input_size = X_train.shape[1]\n",
    "epochs = 20\n",
    "\n",
    "network = FullyConnectedNeuralNetwork(\n",
    "    layers = [\n",
    "        Layer(input_size),\n",
    "        Layer(16, Sigmoid()),\n",
    "        Layer(8, Sigmoid()),\n",
    "        Layer(4, Sigmoid()),\n",
    "        Layer(1)\n",
    "    ],\n",
    "    loss = SquaredErrorLoss(),\n",
    "    learning_rate = 10e-4\n",
    ")"
   ]
  },
  {
   "cell_type": "code",
   "execution_count": null,
   "metadata": {},
   "outputs": [
    {
     "name": "stdout",
     "output_type": "stream",
     "text": [
      "Training MSE for epoch 1: 0.487873\n",
      "Validation MSE for epoch 1: 0.487856\n",
      "\n"
     ]
    }
   ],
   "source": [
    "network.run_num_epochs(epochs,\n",
    "                       X_train,\n",
    "                       y_train,\n",
    "                       X_val,\n",
    "                       y_val,\n",
    "                 )"
   ]
  },
  {
   "cell_type": "markdown",
   "metadata": {},
   "source": [
    "## Palate"
   ]
  },
  {
   "cell_type": "code",
   "execution_count": 117,
   "metadata": {},
   "outputs": [
    {
     "name": "stdout",
     "output_type": "stream",
     "text": [
      "Train R^2: 0.0858911327806\n",
      "Val MSE: 0.41703006494\n"
     ]
    }
   ],
   "source": [
    "dep = \"review/palate\"\n",
    "\n",
    "X_train = independents.loc[trainidx, palate_var].values\n",
    "X_val = independents.loc[validx, palate_var].values\n",
    "\n",
    "y_train = targets.iloc[trainidx].loc[:, dep].values\n",
    "y_val = targets.iloc[validx].loc[:, dep].values\n",
    "\n",
    "regr = linear_model.LinearRegression().fit(X_train, y_train)\n",
    "print(\"Train R^2: \" + str(regr.score(X_train, y_train)))\n",
    "print(\"Val MSE: \" + str(sum((regr.predict(X_val) - y_val) ** 2) / X_val.shape[0]))"
   ]
  },
  {
   "cell_type": "code",
   "execution_count": 121,
   "metadata": {},
   "outputs": [
    {
     "name": "stdout",
     "output_type": "stream",
     "text": [
      "Training MSE for epoch 1: 0.537698\n",
      "Validation MSE for epoch 1: 0.492817\n",
      "\n",
      "Training MSE for epoch 2: 0.473697\n",
      "Validation MSE for epoch 2: 0.478616\n",
      "\n",
      "Training MSE for epoch 3: 0.466517\n",
      "Validation MSE for epoch 3: 0.473013\n",
      "\n",
      "Training MSE for epoch 4: 0.463252\n",
      "Validation MSE for epoch 4: 0.470346\n",
      "\n",
      "Training MSE for epoch 5: 0.461292\n",
      "Validation MSE for epoch 5: 0.468999\n",
      "\n",
      "Training MSE for epoch 6: 0.460049\n",
      "Validation MSE for epoch 6: 0.468329\n",
      "\n",
      "Training MSE for epoch 7: 0.459244\n",
      "Validation MSE for epoch 7: 0.467982\n",
      "\n",
      "Training MSE for epoch 8: 0.458708\n",
      "Validation MSE for epoch 8: 0.467768\n",
      "\n",
      "Training MSE for epoch 9: 0.458338\n",
      "Validation MSE for epoch 9: 0.467597\n",
      "\n",
      "Training MSE for epoch 10: 0.458077\n",
      "Validation MSE for epoch 10: 0.467448\n",
      "\n",
      "Training MSE for epoch 11: 0.457892\n",
      "Validation MSE for epoch 11: 0.46732\n",
      "\n",
      "Training MSE for epoch 12: 0.457759\n",
      "Validation MSE for epoch 12: 0.467211\n",
      "\n",
      "Training MSE for epoch 13: 0.457658\n",
      "Validation MSE for epoch 13: 0.467116\n",
      "\n",
      "Training MSE for epoch 14: 0.457576\n",
      "Validation MSE for epoch 14: 0.467027\n",
      "\n",
      "Training MSE for epoch 15: 0.457505\n",
      "Validation MSE for epoch 15: 0.466941\n",
      "\n",
      "Training MSE for epoch 16: 0.457438\n",
      "Validation MSE for epoch 16: 0.466857\n",
      "\n",
      "Training MSE for epoch 17: 0.457372\n",
      "Validation MSE for epoch 17: 0.466773\n",
      "\n",
      "Training MSE for epoch 18: 0.457305\n",
      "Validation MSE for epoch 18: 0.46669\n",
      "\n",
      "Training MSE for epoch 19: 0.457235\n",
      "Validation MSE for epoch 19: 0.466607\n",
      "\n",
      "Training MSE for epoch 20: 0.457162\n",
      "Validation MSE for epoch 20: 0.466525\n",
      "\n"
     ]
    }
   ],
   "source": [
    "X_train = independents_nn.loc[trainidx, palate_var].values\n",
    "X_val = independents_nn.loc[validx, palate_var].values\n",
    "\n",
    "y_train = targets.iloc[trainidx].loc[:, dep].values\n",
    "y_val = targets.iloc[validx].loc[:, dep].values\n",
    "\n",
    "input_size = X_train.shape[1]\n",
    "epochs = 20\n",
    "\n",
    "network = FullyConnectedNeuralNetwork(\n",
    "    layers = [\n",
    "        Layer(input_size),\n",
    "        Layer(16, Sigmoid()),\n",
    "        Layer(8, Sigmoid()),\n",
    "        Layer(4, Sigmoid()),\n",
    "        Layer(1)\n",
    "    ],\n",
    "    loss = SquaredErrorLoss(),\n",
    "    learning_rate = 10e-4\n",
    ")\n",
    "\n",
    "network.run_num_epochs(epochs,\n",
    "                       X_train,\n",
    "                       y_train,\n",
    "                       X_val,\n",
    "                       y_val,\n",
    "                 )"
   ]
  },
  {
   "cell_type": "markdown",
   "metadata": {},
   "source": [
    "## Taste"
   ]
  },
  {
   "cell_type": "code",
   "execution_count": 118,
   "metadata": {},
   "outputs": [
    {
     "name": "stdout",
     "output_type": "stream",
     "text": [
      "Train R^2: 0.0954792105993\n",
      "Val MSE: 0.470527653711\n"
     ]
    }
   ],
   "source": [
    "dep = \"review/taste\"\n",
    "\n",
    "X_train = independents.loc[trainidx, aroma_var].values\n",
    "X_val = independents.loc[validx, aroma_var].values\n",
    "\n",
    "y_train = targets.iloc[trainidx].loc[:, dep].values\n",
    "y_val = targets.iloc[validx].loc[:, dep].values\n",
    "\n",
    "regr = linear_model.LinearRegression().fit(X_train, y_train)\n",
    "print(\"Train R^2: \" + str(regr.score(X_train, y_train)))\n",
    "print(\"Val MSE: \" + str(sum((regr.predict(X_val) - y_val) ** 2) / X_val.shape[0]))"
   ]
  },
  {
   "cell_type": "code",
   "execution_count": null,
   "metadata": {
    "collapsed": true
   },
   "outputs": [],
   "source": [
    "X_train = independents_nn.loc[trainidx, taste_var].values\n",
    "X_val = independents_nn.loc[validx, taste_var].values\n",
    "\n",
    "y_train = targets.iloc[trainidx].loc[:, dep].values\n",
    "y_val = targets.iloc[validx].loc[:, dep].values\n",
    "\n",
    "input_size = X_train.shape[1]\n",
    "epochs = 20\n",
    "\n",
    "\n",
    "network = FullyConnectedNeuralNetwork(\n",
    "    layers = [\n",
    "        Layer(input_size),\n",
    "        Layer(16, Sigmoid()),\n",
    "        Layer(8, Sigmoid()),\n",
    "        Layer(4, Sigmoid()),\n",
    "        Layer(1)\n",
    "    ],\n",
    "    loss = SquaredErrorLoss(),\n",
    "    learning_rate = 10e-4\n",
    ")\n",
    "\n",
    "network.run_num_epochs(epochs,\n",
    "                       X_train,\n",
    "                       y_train,\n",
    "                       X_val,\n",
    "                       y_val,\n",
    "                 )"
   ]
  },
  {
   "cell_type": "markdown",
   "metadata": {},
   "source": [
    "## Overall"
   ]
  },
  {
   "cell_type": "code",
   "execution_count": 119,
   "metadata": {},
   "outputs": [
    {
     "name": "stdout",
     "output_type": "stream",
     "text": [
      "Train R^2: 0.0768312997098\n",
      "Val MSE: 0.461082067332\n"
     ]
    }
   ],
   "source": [
    "dep = \"review/overall\"\n",
    "\n",
    "X_train = independents.loc[trainidx, overall_var].values\n",
    "X_val = independents.loc[validx, overall_var].values\n",
    "\n",
    "y_train = targets.iloc[trainidx].loc[:, dep].values\n",
    "y_val = targets.iloc[validx].loc[:, dep].values\n",
    "\n",
    "regr = linear_model.LinearRegression().fit(X_train, y_train)\n",
    "print(\"Train R^2: \" + str(regr.score(X_train, y_train)))\n",
    "print(\"Val MSE: \" + str(sum((regr.predict(X_val) - y_val) ** 2) / X_val.shape[0]))"
   ]
  },
  {
   "cell_type": "code",
   "execution_count": null,
   "metadata": {
    "collapsed": true
   },
   "outputs": [],
   "source": [
    "X_train = independents_nn.loc[trainidx, overall_var].values\n",
    "X_val = independents_nn.loc[validx, overall_var].values\n",
    "\n",
    "y_train = targets.iloc[trainidx].loc[:, dep].values\n",
    "y_val = targets.iloc[validx].loc[:, dep].values\n",
    "\n",
    "input_size = X_train.shape[1]\n",
    "epochs = 20\n",
    "\n",
    "network = FullyConnectedNeuralNetwork(\n",
    "    layers = [\n",
    "        Layer(input_size),\n",
    "        Layer(16, Sigmoid()),\n",
    "        Layer(8, Sigmoid()),\n",
    "        Layer(4, Sigmoid()),\n",
    "        Layer(1)\n",
    "    ],\n",
    "    loss = SquaredErrorLoss(),\n",
    "    learning_rate = 10e-4\n",
    ")\n",
    "\n",
    "network.run_num_epochs(epochs,\n",
    "                       X_train,\n",
    "                       y_train,\n",
    "                       X_val,\n",
    "                       y_val,\n",
    "                 )"
   ]
  },
  {
   "cell_type": "code",
   "execution_count": null,
   "metadata": {
    "collapsed": true
   },
   "outputs": [],
   "source": []
  }
 ],
 "metadata": {
  "kernelspec": {
   "display_name": "Python 3",
   "language": "python",
   "name": "python3"
  },
  "language_info": {
   "codemirror_mode": {
    "name": "ipython",
    "version": 3
   },
   "file_extension": ".py",
   "mimetype": "text/x-python",
   "name": "python",
   "nbconvert_exporter": "python",
   "pygments_lexer": "ipython3",
   "version": "3.6.2"
  }
 },
 "nbformat": 4,
 "nbformat_minor": 2
}
