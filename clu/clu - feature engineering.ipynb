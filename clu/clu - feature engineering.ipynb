{
 "cells": [
  {
   "cell_type": "markdown",
   "metadata": {},
   "source": [
    "We shall do\n",
    "\n",
    "- \\# of sentiment words by group\n",
    "- \\# of unique / \\# of words"
   ]
  },
  {
   "cell_type": "code",
   "execution_count": 24,
   "metadata": {
    "collapsed": true
   },
   "outputs": [],
   "source": [
    "import pandas as pd\n",
    "import numpy as np\n",
    "import re\n",
    "from nltk.tokenize import word_tokenize\n",
    "from nltk import pos_tag"
   ]
  },
  {
   "cell_type": "code",
   "execution_count": 25,
   "metadata": {},
   "outputs": [
    {
     "data": {
      "text/plain": [
       "[('we', 'PRP'), ('are', 'VBP'), ('out', 'RP'), ('here', 'RB')]"
      ]
     },
     "execution_count": 25,
     "metadata": {},
     "output_type": "execute_result"
    }
   ],
   "source": [
    "pos_tag([\"we\", \"are\", \"out\", \"here\"])"
   ]
  },
  {
   "cell_type": "code",
   "execution_count": 2,
   "metadata": {
    "collapsed": true
   },
   "outputs": [],
   "source": [
    "nrcsentiment = pd.read_csv(\"NRC-Emotion-Lexicon-Wordlevel-v0.92.txt\", sep = \"\\t\", header = None)\n",
    "nrcsentiment.columns = [\"word\", \"sentiment\", \"indicator\"]\n",
    "nrcsentiment = nrcsentiment[nrcsentiment.indicator == 1][[\"word\", \"sentiment\"]]"
   ]
  },
  {
   "cell_type": "code",
   "execution_count": 3,
   "metadata": {
    "collapsed": true
   },
   "outputs": [],
   "source": [
    "df = pd.read_csv(\"beer.csv\")\n",
    "df = df.dropna(subset=['review/text'])"
   ]
  },
  {
   "cell_type": "code",
   "execution_count": 34,
   "metadata": {
    "collapsed": true
   },
   "outputs": [],
   "source": [
    "def cleaner(text):\n",
    "    punct = re.compile(\"(\\.)|(\\;)|(\\:)|(\\!)|(\\?)|(\\,)|(\\\")|(\\()|(\\))|(\\[)|(\\])|(\\t)\")\n",
    "    text = text.lower()\n",
    "    return word_tokenize(re.sub(punct, \" \", text))\n",
    " \n",
    "def unique_over_total(text):\n",
    "    numunique = len(np.unique(text))\n",
    "    return numunique / len(text)\n",
    "\n",
    "def tidy_text(df):\n",
    "    \"\"\"Takes our df and makes it into tidy data wrt text:\n",
    "    id, word\n",
    "    id, word etc...\n",
    "    \"\"\"\n",
    "    identifier = df[\"index\"]\n",
    "    words = {\"index\": [], \"word\": [], \"part_of_speech\": []}\n",
    "    uniquefeature = []\n",
    "    \n",
    "    for i in identifier:\n",
    "        texttosplit = list(df[df[\"index\"] == i][\"review/text\"])[0]\n",
    "        cleaned = cleaner(texttosplit)\n",
    "        \n",
    "        uniquefeature.append(unique_over_total(cleaned))\n",
    "        \n",
    "        for j in np.unique(cleaned):\n",
    "            words[\"index\"].append(i)\n",
    "            words[\"word\"].append(j)\n",
    "            words[\"part_of_speech\"].append(pos_tag([j])[0][1])\n",
    "        \n",
    "    untidydf = pd.DataFrame({\"index\": identifier, \"proportion_unique\": uniquefeature})\n",
    "    tidydf = pd.DataFrame({\"index\": words[\"index\"], \"word\": words[\"word\"], \"part_of_speech\": words[\"part_of_speech\"]})\n",
    "    \n",
    "    return untidydf, tidydf"
   ]
  },
  {
   "cell_type": "code",
   "execution_count": null,
   "metadata": {},
   "outputs": [],
   "source": [
    "metrics, tidydata = tidy_text(df)"
   ]
  },
  {
   "cell_type": "code",
   "execution_count": 6,
   "metadata": {},
   "outputs": [
    {
     "data": {
      "text/html": [
       "<div>\n",
       "<style>\n",
       "    .dataframe thead tr:only-child th {\n",
       "        text-align: right;\n",
       "    }\n",
       "\n",
       "    .dataframe thead th {\n",
       "        text-align: left;\n",
       "    }\n",
       "\n",
       "    .dataframe tbody tr th {\n",
       "        vertical-align: top;\n",
       "    }\n",
       "</style>\n",
       "<table border=\"1\" class=\"dataframe\">\n",
       "  <thead>\n",
       "    <tr style=\"text-align: right;\">\n",
       "      <th></th>\n",
       "      <th>index</th>\n",
       "      <th>proportion_unique</th>\n",
       "    </tr>\n",
       "  </thead>\n",
       "  <tbody>\n",
       "    <tr>\n",
       "      <th>0</th>\n",
       "      <td>40163</td>\n",
       "      <td>0.744681</td>\n",
       "    </tr>\n",
       "    <tr>\n",
       "      <th>1</th>\n",
       "      <td>8135</td>\n",
       "      <td>0.660194</td>\n",
       "    </tr>\n",
       "    <tr>\n",
       "      <th>2</th>\n",
       "      <td>10529</td>\n",
       "      <td>0.850746</td>\n",
       "    </tr>\n",
       "    <tr>\n",
       "      <th>3</th>\n",
       "      <td>44610</td>\n",
       "      <td>0.814286</td>\n",
       "    </tr>\n",
       "    <tr>\n",
       "      <th>4</th>\n",
       "      <td>37062</td>\n",
       "      <td>0.747368</td>\n",
       "    </tr>\n",
       "  </tbody>\n",
       "</table>\n",
       "</div>"
      ],
      "text/plain": [
       "   index  proportion_unique\n",
       "0  40163           0.744681\n",
       "1   8135           0.660194\n",
       "2  10529           0.850746\n",
       "3  44610           0.814286\n",
       "4  37062           0.747368"
      ]
     },
     "execution_count": 6,
     "metadata": {},
     "output_type": "execute_result"
    }
   ],
   "source": [
    "metrics.head()"
   ]
  },
  {
   "cell_type": "code",
   "execution_count": 7,
   "metadata": {},
   "outputs": [
    {
     "data": {
      "text/html": [
       "<div>\n",
       "<style>\n",
       "    .dataframe thead tr:only-child th {\n",
       "        text-align: right;\n",
       "    }\n",
       "\n",
       "    .dataframe thead th {\n",
       "        text-align: left;\n",
       "    }\n",
       "\n",
       "    .dataframe tbody tr th {\n",
       "        vertical-align: top;\n",
       "    }\n",
       "</style>\n",
       "<table border=\"1\" class=\"dataframe\">\n",
       "  <thead>\n",
       "    <tr style=\"text-align: right;\">\n",
       "      <th></th>\n",
       "      <th>index</th>\n",
       "      <th>word</th>\n",
       "    </tr>\n",
       "  </thead>\n",
       "  <tbody>\n",
       "    <tr>\n",
       "      <th>0</th>\n",
       "      <td>40163</td>\n",
       "      <td>a</td>\n",
       "    </tr>\n",
       "    <tr>\n",
       "      <th>1</th>\n",
       "      <td>40163</td>\n",
       "      <td>absinthe</td>\n",
       "    </tr>\n",
       "    <tr>\n",
       "      <th>2</th>\n",
       "      <td>40163</td>\n",
       "      <td>added</td>\n",
       "    </tr>\n",
       "    <tr>\n",
       "      <th>3</th>\n",
       "      <td>40163</td>\n",
       "      <td>after</td>\n",
       "    </tr>\n",
       "    <tr>\n",
       "      <th>4</th>\n",
       "      <td>40163</td>\n",
       "      <td>aftertaste</td>\n",
       "    </tr>\n",
       "  </tbody>\n",
       "</table>\n",
       "</div>"
      ],
      "text/plain": [
       "   index        word\n",
       "0  40163           a\n",
       "1  40163    absinthe\n",
       "2  40163       added\n",
       "3  40163       after\n",
       "4  40163  aftertaste"
      ]
     },
     "execution_count": 7,
     "metadata": {},
     "output_type": "execute_result"
    }
   ],
   "source": [
    "tidydata.head()"
   ]
  },
  {
   "cell_type": "code",
   "execution_count": 8,
   "metadata": {},
   "outputs": [
    {
     "data": {
      "text/html": [
       "<div>\n",
       "<style>\n",
       "    .dataframe thead tr:only-child th {\n",
       "        text-align: right;\n",
       "    }\n",
       "\n",
       "    .dataframe thead th {\n",
       "        text-align: left;\n",
       "    }\n",
       "\n",
       "    .dataframe tbody tr th {\n",
       "        vertical-align: top;\n",
       "    }\n",
       "</style>\n",
       "<table border=\"1\" class=\"dataframe\">\n",
       "  <thead>\n",
       "    <tr style=\"text-align: right;\">\n",
       "      <th></th>\n",
       "      <th>word</th>\n",
       "      <th>sentiment</th>\n",
       "    </tr>\n",
       "  </thead>\n",
       "  <tbody>\n",
       "    <tr>\n",
       "      <th>19</th>\n",
       "      <td>abacus</td>\n",
       "      <td>trust</td>\n",
       "    </tr>\n",
       "    <tr>\n",
       "      <th>23</th>\n",
       "      <td>abandon</td>\n",
       "      <td>fear</td>\n",
       "    </tr>\n",
       "    <tr>\n",
       "      <th>25</th>\n",
       "      <td>abandon</td>\n",
       "      <td>negative</td>\n",
       "    </tr>\n",
       "    <tr>\n",
       "      <th>27</th>\n",
       "      <td>abandon</td>\n",
       "      <td>sadness</td>\n",
       "    </tr>\n",
       "    <tr>\n",
       "      <th>30</th>\n",
       "      <td>abandoned</td>\n",
       "      <td>anger</td>\n",
       "    </tr>\n",
       "  </tbody>\n",
       "</table>\n",
       "</div>"
      ],
      "text/plain": [
       "         word sentiment\n",
       "19     abacus     trust\n",
       "23    abandon      fear\n",
       "25    abandon  negative\n",
       "27    abandon   sadness\n",
       "30  abandoned     anger"
      ]
     },
     "execution_count": 8,
     "metadata": {},
     "output_type": "execute_result"
    }
   ],
   "source": [
    "nrcsentiment.head()"
   ]
  },
  {
   "cell_type": "code",
   "execution_count": 9,
   "metadata": {
    "collapsed": true
   },
   "outputs": [],
   "source": [
    "sentimentjoined = pd.merge(tidydata, nrcsentiment, on = \"word\")"
   ]
  },
  {
   "cell_type": "code",
   "execution_count": 10,
   "metadata": {
    "collapsed": true
   },
   "outputs": [],
   "source": [
    "sentimentjoined = pd.get_dummies(sentimentjoined, columns = [\"sentiment\"])\n",
    "groupcols = ['sentiment_anger', 'sentiment_anticipation',\n",
    "             'sentiment_disgust', 'sentiment_fear', 'sentiment_joy',\n",
    "             'sentiment_negative', 'sentiment_positive', 'sentiment_sadness',\n",
    "             'sentiment_surprise', 'sentiment_trust']"
   ]
  },
  {
   "cell_type": "code",
   "execution_count": 11,
   "metadata": {
    "collapsed": true
   },
   "outputs": [],
   "source": [
    "finalsentiment = sentimentjoined.groupby([\"index\"])[groupcols].sum()\n",
    "finalsentiment[\"index\"] = finalsentiment.index\n",
    "finalsentiment.reset_index(drop = True, inplace = True)\n",
    "summedsentiments = finalsentiment[groupcols].sum(axis = 1)\n",
    "\n",
    "for i in groupcols:\n",
    "    finalsentiment[i] = finalsentiment[i] / summedsentiments"
   ]
  },
  {
   "cell_type": "code",
   "execution_count": 19,
   "metadata": {
    "collapsed": true
   },
   "outputs": [],
   "source": [
    "finaldf = pd.merge(pd.merge(finalsentiment, metrics, on = \"index\"), df, on = \"index\")"
   ]
  },
  {
   "cell_type": "code",
   "execution_count": 21,
   "metadata": {},
   "outputs": [
    {
     "data": {
      "text/plain": [
       "Index(['sentiment_anger', 'sentiment_anticipation', 'sentiment_disgust',\n",
       "       'sentiment_fear', 'sentiment_joy', 'sentiment_negative',\n",
       "       'sentiment_positive', 'sentiment_sadness', 'sentiment_surprise',\n",
       "       'sentiment_trust', 'index', 'proportion_unique', 'beer/ABV',\n",
       "       'beer/beerId', 'beer/brewerId', 'beer/name', 'beer/style',\n",
       "       'review/appearance', 'review/aroma', 'review/overall', 'review/palate',\n",
       "       'review/taste', 'review/text', 'review/timeStruct', 'review/timeUnix',\n",
       "       'user/ageInSeconds', 'user/birthdayRaw', 'user/birthdayUnix',\n",
       "       'user/gender', 'user/profileName'],\n",
       "      dtype='object')"
      ]
     },
     "execution_count": 21,
     "metadata": {},
     "output_type": "execute_result"
    }
   ],
   "source": [
    "finaldf.columns"
   ]
  },
  {
   "cell_type": "code",
   "execution_count": 22,
   "metadata": {},
   "outputs": [
    {
     "data": {
      "text/plain": [
       "0        5.0\n",
       "1        6.2\n",
       "2        6.5\n",
       "3        5.0\n",
       "4        7.7\n",
       "5        4.7\n",
       "6        4.7\n",
       "7        4.7\n",
       "8        4.7\n",
       "9        4.7\n",
       "10       4.7\n",
       "11       4.7\n",
       "12       7.2\n",
       "13       5.6\n",
       "14       7.4\n",
       "15       7.4\n",
       "16       7.4\n",
       "17       7.4\n",
       "18       7.4\n",
       "19       7.4\n",
       "20       7.4\n",
       "21       7.4\n",
       "22       7.4\n",
       "23       7.4\n",
       "24       7.4\n",
       "25       7.4\n",
       "26       7.4\n",
       "27       7.4\n",
       "28       7.4\n",
       "29       7.4\n",
       "        ... \n",
       "37454    9.0\n",
       "37455    9.0\n",
       "37456    9.0\n",
       "37457    9.0\n",
       "37458    9.0\n",
       "37459    9.0\n",
       "37460    9.0\n",
       "37461    9.0\n",
       "37462    9.0\n",
       "37463    9.0\n",
       "37464    9.0\n",
       "37465    9.0\n",
       "37466    9.0\n",
       "37467    9.0\n",
       "37468    9.0\n",
       "37469    9.0\n",
       "37470    9.0\n",
       "37471    9.0\n",
       "37472    9.0\n",
       "37473    9.0\n",
       "37474    9.0\n",
       "37475    9.0\n",
       "37476    9.0\n",
       "37477    9.0\n",
       "37478    9.0\n",
       "37479    9.0\n",
       "37480    9.0\n",
       "37481    9.0\n",
       "37482    9.0\n",
       "37483    9.0\n",
       "Name: beer/ABV, Length: 37484, dtype: float64"
      ]
     },
     "execution_count": 22,
     "metadata": {},
     "output_type": "execute_result"
    }
   ],
   "source": [
    "features = groupcols + [\"proportion_unique\", ]"
   ]
  },
  {
   "cell_type": "code",
   "execution_count": null,
   "metadata": {
    "collapsed": true
   },
   "outputs": [],
   "source": [
    "\"\"\".agg({\n",
    "    'sentiment_anger' : np.sum,\n",
    "    'sentiment_anticipation' : np.sum,\n",
    "    'sentiment_disgust' : np.sum,\n",
    "    'sentiment_fear' : np.sum,\n",
    "    'sentiment_joy' : np.sum,\n",
    "    'sentiment_negative' : np.sum,\n",
    "    'sentiment_positive' : np.sum,\n",
    "    'sentiment_sadness' : np.sum,\n",
    "    'sentiment_surprise' : np.sum,\n",
    "    'sentiment_trust' : np.sum,\n",
    "})\"\"\"\n"
   ]
  }
 ],
 "metadata": {
  "kernelspec": {
   "display_name": "Python 3",
   "language": "python",
   "name": "python3"
  },
  "language_info": {
   "codemirror_mode": {
    "name": "ipython",
    "version": 3
   },
   "file_extension": ".py",
   "mimetype": "text/x-python",
   "name": "python",
   "nbconvert_exporter": "python",
   "pygments_lexer": "ipython3",
   "version": "3.6.2"
  }
 },
 "nbformat": 4,
 "nbformat_minor": 2
}
