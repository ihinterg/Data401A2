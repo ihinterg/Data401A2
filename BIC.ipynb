{
 "cells": [
  {
   "cell_type": "code",
   "execution_count": 2,
   "metadata": {},
   "outputs": [
    {
     "name": "stderr",
     "output_type": "stream",
     "text": [
      "/opt/conda/lib/python3.6/site-packages/statsmodels/compat/pandas.py:56: FutureWarning: The pandas.core.datetools module is deprecated and will be removed in a future version. Please use the pandas.tseries module instead.\n",
      "  from pandas.core import datetools\n"
     ]
    }
   ],
   "source": [
    "import pandas as pd\n",
    "import numpy as np\n",
    "import statsmodels.api as sm\n",
    "from sklearn import linear_model\n"
   ]
  },
  {
   "cell_type": "code",
   "execution_count": 5,
   "metadata": {},
   "outputs": [],
   "source": [
    "one = pd.read_csv(\"ZERO.csv\")\n",
    "two = pd.read_csv(\"FIRST.csv\")\n",
    "three = pd.read_csv(\"SECOND.csv\")\n",
    "four = pd.read_csv(\"THIRD1.csv\")\n",
    "five = pd.read_csv(\"THIRD2.csv\")\n",
    "six = pd.read_csv(\"FOURTH1.csv\")\n",
    "seven = pd.read_csv(\"FOURTH2.csv\")\n"
   ]
  },
  {
   "cell_type": "code",
   "execution_count": 6,
   "metadata": {},
   "outputs": [],
   "source": [
    "all_dfs = [one, two, three, four, five, six, seven]"
   ]
  },
  {
   "cell_type": "code",
   "execution_count": 7,
   "metadata": {},
   "outputs": [],
   "source": [
    "finalset = pd.concat(all_dfs).reset_index(drop=True)"
   ]
  },
  {
   "cell_type": "code",
   "execution_count": 8,
   "metadata": {},
   "outputs": [
    {
     "data": {
      "text/plain": [
       "(37474, 1067)"
      ]
     },
     "execution_count": 8,
     "metadata": {},
     "output_type": "execute_result"
    }
   ],
   "source": [
    "finalset.shape"
   ]
  },
  {
   "cell_type": "code",
   "execution_count": 9,
   "metadata": {},
   "outputs": [],
   "source": [
    "depcols = ['review/appearance', 'review/aroma', 'review/overall',\n",
    "           'review/palate', 'review/taste']"
   ]
  },
  {
   "cell_type": "code",
   "execution_count": 11,
   "metadata": {},
   "outputs": [],
   "source": [
    "y_appearance = finalset['review/appearance']\n",
    "y_aroma = finalset['review/aroma']\n",
    "y_overall = finalset['review/overall']\n",
    "y_palate = finalset['review/palate']\n",
    "y_taste = finalset['review/taste']"
   ]
  },
  {
   "cell_type": "code",
   "execution_count": 17,
   "metadata": {},
   "outputs": [],
   "source": [
    "xcols = finalset.drop(depcols, axis = 1)\n",
    "xcols = xcols.drop([\"index\", \"Unnamed: 0\"], axis = 1)\n",
    "\n",
    "\n"
   ]
  },
  {
   "cell_type": "code",
   "execution_count": 13,
   "metadata": {},
   "outputs": [
    {
     "data": {
      "text/plain": [
       "(37474, 1062)"
      ]
     },
     "execution_count": 13,
     "metadata": {},
     "output_type": "execute_result"
    }
   ],
   "source": [
    "xcols.shape"
   ]
  },
  {
   "cell_type": "code",
   "execution_count": 14,
   "metadata": {},
   "outputs": [],
   "source": [
    "def forward_stepwise_selection_BIC(X, y, BIC_diff):\n",
    "  # X: dataframe with explanatory variables\n",
    "  # y: variable we are trying to predict\n",
    "  X_variables = list(X.columns)\n",
    "  good_vars = []\n",
    "  good_vars_bic = []\n",
    "  model = sm.OLS(endog=y, exog=X, missing='drop')\n",
    "  results = model.fit()\n",
    "  old_BIC =  np.inf\n",
    "  counter = 20\n",
    "  while len(X_variables) > 0 and counter > 0: # model is improving and there is at least one explanatory variable\n",
    "    counter -= 1\n",
    "    current_best_bic = np.inf\n",
    "    best_variable_to_add = None\n",
    "    for variable in X_variables:\n",
    "      model = sm.OLS(endog=y, exog=X[good_vars + [variable]], missing='drop')\n",
    "      results = model.fit()\n",
    "      bic = results.bic\n",
    "      if bic < current_best_bic:\n",
    "        current_best_bic = bic\n",
    "        best_variable_to_add = variable\n",
    "    if (old_BIC - current_best_bic) > BIC_diff: \n",
    "      print(\"best variable to add = {}\".format(best_variable_to_add))\n",
    "#       print(current_best_bic)\n",
    "      X_variables.remove(best_variable_to_add)\n",
    "      good_vars.append(best_variable_to_add)\n",
    "      good_vars_bic.append(current_best_bic)\n",
    "      old_BIC = current_best_bic\n",
    "#       new_BIC = current_best_bic\n",
    "      print(old_BIC)\n",
    "    else:\n",
    "      return good_vars, good_vars_bic\n",
    "  return good_vars, good_vars_bic"
   ]
  },
  {
   "cell_type": "code",
   "execution_count": 18,
   "metadata": {},
   "outputs": [
    {
     "name": "stdout",
     "output_type": "stream",
     "text": [
      "best variable to add = proportion_unique\n",
      "87552.9794198\n",
      "best variable to add = stopwordcount\n",
      "73164.2190604\n",
      "best variable to add = part_of_speech_NN\n",
      "71469.1903034\n",
      "best variable to add = sentiment_joy\n",
      "70165.1110243\n",
      "best variable to add = sentiment_sadness\n",
      "69333.5512755\n",
      "best variable to add = part_of_speech_NNS\n",
      "68717.5906986\n",
      "best variable to add = part_of_speech_IN\n",
      "68228.0953024\n",
      "best variable to add = part_of_speech_JJ\n",
      "67811.8954899\n",
      "best variable to add = part_of_speech_RB\n",
      "67434.2168591\n",
      "best variable to add = part_of_speech_VBN\n",
      "67034.886881\n",
      "best variable to add = part_of_speech_VB\n",
      "66666.0901028\n",
      "best variable to add = part_of_speech_VBG\n",
      "66236.4570106\n",
      "best variable to add = part_of_speech_CD\n",
      "65861.2158594\n",
      "best variable to add = part_of_speech_PRP\n",
      "65546.1731913\n",
      "best variable to add = part_of_speech_VBZ\n",
      "65349.0408183\n",
      "best variable to add = part_of_speech_MD\n",
      "65137.7989909\n",
      "best variable to add = part_of_speech_VBP\n",
      "65026.3750828\n",
      "best variable to add = part_of_speech_VBD\n",
      "64907.378627\n",
      "best variable to add = part_of_speech_PRP$\n",
      "64790.8089943\n",
      "best variable to add = sentiment_negative\n",
      "64683.8776342\n"
     ]
    }
   ],
   "source": [
    "appearancetraits, bic_current = forward_stepwise_selection_BIC(xcols, y_appearance, 50)"
   ]
  },
  {
   "cell_type": "code",
   "execution_count": 19,
   "metadata": {},
   "outputs": [
    {
     "name": "stdout",
     "output_type": "stream",
     "text": [
      "best variable to add = proportion_unique\n",
      "95381.3371608\n",
      "best variable to add = charcount\n",
      "82243.656031\n",
      "best variable to add = sentiment_joy\n",
      "80625.4730447\n",
      "best variable to add = part_of_speech_NN\n",
      "79549.2911652\n",
      "best variable to add = sentiment_sadness\n",
      "78843.9405462\n",
      "best variable to add = part_of_speech_IN\n",
      "78257.7962581\n",
      "best variable to add = part_of_speech_NNS\n",
      "77722.0482096\n",
      "best variable to add = part_of_speech_RB\n",
      "77404.4376644\n",
      "best variable to add = sentiment_positive\n",
      "77128.734709\n",
      "best variable to add = sentiment_surprise\n",
      "76796.328179\n",
      "best variable to add = sentiment_anger\n",
      "76489.5460504\n",
      "best variable to add = sentiment_anticipation\n",
      "75999.8195817\n",
      "best variable to add = sentiment_negative\n",
      "75694.9751878\n",
      "best variable to add = sentiment_trust\n",
      "75392.6253508\n",
      "best variable to add = sentiment_disgust\n",
      "75063.317119\n",
      "best variable to add = sentiment_fear\n",
      "74800.9316439\n",
      "best variable to add = part_of_speech_CC\n",
      "74588.4819862\n",
      "best variable to add = stopwordcount\n",
      "74421.6668629\n",
      "best variable to add = uniquecursewordcount\n",
      "74317.5509726\n",
      "best variable to add = part_of_speech_VBD\n",
      "74264.7067803\n"
     ]
    }
   ],
   "source": [
    "aromatraits, bic_current = forward_stepwise_selection_BIC(xcols, y_aroma, 50)"
   ]
  },
  {
   "cell_type": "code",
   "execution_count": 20,
   "metadata": {},
   "outputs": [
    {
     "name": "stdout",
     "output_type": "stream",
     "text": [
      "best variable to add = proportion_unique\n",
      "94971.169979\n",
      "best variable to add = charcount\n",
      "84600.439136\n",
      "best variable to add = sentiment_joy\n",
      "82648.0658298\n",
      "best variable to add = part_of_speech_NN\n",
      "81495.6758236\n",
      "best variable to add = part_of_speech_IN\n",
      "80993.5013244\n",
      "best variable to add = part_of_speech_JJ\n",
      "80490.8295362\n",
      "best variable to add = part_of_speech_NNS\n",
      "80030.2153199\n",
      "best variable to add = part_of_speech_RB\n",
      "79695.996415\n",
      "best variable to add = part_of_speech_VBN\n",
      "79351.0318557\n",
      "best variable to add = part_of_speech_VB\n",
      "79126.7419737\n",
      "best variable to add = part_of_speech_VBG\n",
      "78884.5082599\n",
      "best variable to add = part_of_speech_VBZ\n",
      "78680.8638423\n",
      "best variable to add = part_of_speech_CD\n",
      "78452.9065399\n",
      "best variable to add = sentiment_positive\n",
      "78311.8694683\n",
      "best variable to add = sentiment_sadness\n",
      "78088.7199691\n",
      "best variable to add = sentiment_anticipation\n",
      "77956.9258661\n",
      "best variable to add = part_of_speech_PRP\n",
      "77841.7678562\n",
      "best variable to add = sentiment_anger\n",
      "77757.1741943\n",
      "best variable to add = sentiment_trust\n",
      "77627.4274526\n",
      "best variable to add = sentiment_surprise\n",
      "77486.4470165\n"
     ]
    }
   ],
   "source": [
    "overalltraits, bic_current = forward_stepwise_selection_BIC(xcols, y_overall, 80)"
   ]
  },
  {
   "cell_type": "code",
   "execution_count": 21,
   "metadata": {},
   "outputs": [
    {
     "name": "stdout",
     "output_type": "stream",
     "text": [
      "best variable to add = proportion_unique\n",
      "93387.1838439\n",
      "best variable to add = charcount\n",
      "80898.4569972\n",
      "best variable to add = sentiment_joy\n",
      "79173.9492243\n",
      "best variable to add = part_of_speech_NN\n",
      "78053.1174327\n",
      "best variable to add = sentiment_sadness\n",
      "77482.845251\n",
      "best variable to add = part_of_speech_IN\n",
      "77007.6280666\n",
      "best variable to add = part_of_speech_NNS\n",
      "76543.6769642\n",
      "best variable to add = part_of_speech_JJ\n",
      "76172.114884\n",
      "best variable to add = part_of_speech_RB\n",
      "75815.68229\n",
      "best variable to add = sentiment_positive\n",
      "75545.9263266\n",
      "best variable to add = sentiment_anticipation\n",
      "75225.3355488\n",
      "best variable to add = sentiment_anger\n",
      "74898.4723906\n",
      "best variable to add = sentiment_surprise\n",
      "74636.1201077\n",
      "best variable to add = sentiment_trust\n",
      "74479.1873929\n",
      "best variable to add = sentiment_negative\n",
      "74074.2834219\n",
      "best variable to add = sentiment_disgust\n",
      "73752.5393483\n",
      "best variable to add = sentiment_fear\n",
      "73596.1223738\n",
      "best variable to add = part_of_speech_CC\n",
      "73375.3719516\n",
      "best variable to add = stopwordcount\n",
      "73243.1083489\n",
      "best variable to add = uniquecursewordcount\n",
      "73146.0770629\n"
     ]
    }
   ],
   "source": [
    "palatetraits, bic_current = forward_stepwise_selection_BIC(xcols, y_palate, 80)"
   ]
  },
  {
   "cell_type": "code",
   "execution_count": 22,
   "metadata": {},
   "outputs": [
    {
     "name": "stdout",
     "output_type": "stream",
     "text": [
      "best variable to add = proportion_unique\n",
      "97454.4086323\n",
      "best variable to add = charcount\n",
      "85896.4056402\n",
      "best variable to add = sentiment_joy\n",
      "83874.7960357\n",
      "best variable to add = part_of_speech_NN\n",
      "82804.5584387\n",
      "best variable to add = sentiment_sadness\n",
      "82257.6484826\n",
      "best variable to add = sentiment_positive\n",
      "81757.1201833\n",
      "best variable to add = sentiment_anticipation\n",
      "81245.0805082\n",
      "best variable to add = sentiment_anger\n",
      "80661.8948886\n",
      "best variable to add = sentiment_surprise\n",
      "80174.3252276\n",
      "best variable to add = part_of_speech_NNS\n",
      "79774.6992957\n",
      "best variable to add = sentiment_negative\n",
      "79441.1166094\n",
      "best variable to add = sentiment_trust\n",
      "78939.823474\n",
      "best variable to add = sentiment_disgust\n",
      "78635.0043415\n",
      "best variable to add = part_of_speech_CC\n",
      "78464.2387505\n",
      "best variable to add = sentiment_fear\n",
      "78312.8864253\n",
      "best variable to add = stopwordcount\n",
      "78134.6818732\n",
      "best variable to add = uniquecursewordcount\n",
      "78004.1062735\n"
     ]
    }
   ],
   "source": [
    "tastetraits, bic_current = forward_stepwise_selection_BIC(xcols, y_taste, 80)"
   ]
  },
  {
   "cell_type": "code",
   "execution_count": 25,
   "metadata": {},
   "outputs": [
    {
     "name": "stdout",
     "output_type": "stream",
     "text": [
      "unique to appearance\n",
      "['part_of_speech_MD', 'part_of_speech_VBP', 'part_of_speech_PRP$']\n"
     ]
    }
   ],
   "source": [
    "print(\"unique to appearance\")\n",
    "print([x for x in appearancetraits if (x not in aromatraits and x not in overalltraits and x not in palatetraits and x not in tastetraits)])\n"
   ]
  },
  {
   "cell_type": "code",
   "execution_count": 27,
   "metadata": {},
   "outputs": [
    {
     "name": "stdout",
     "output_type": "stream",
     "text": [
      "unique to aroma\n",
      "[]\n"
     ]
    }
   ],
   "source": [
    "print(\"unique to aroma\")\n",
    "print([x for x in aromatraits if (x not in appearancetraits and x not in overalltraits and x not in palatetraits and x not in tastetraits)])\n"
   ]
  },
  {
   "cell_type": "code",
   "execution_count": 28,
   "metadata": {},
   "outputs": [
    {
     "name": "stdout",
     "output_type": "stream",
     "text": [
      "unique to overall\n",
      "[]\n"
     ]
    }
   ],
   "source": [
    "print(\"unique to overall\")\n",
    "print([x for x in overalltraits if (x not in appearancetraits and x not in aromatraits and x not in palatetraits and x not in tastetraits)])\n"
   ]
  },
  {
   "cell_type": "code",
   "execution_count": 29,
   "metadata": {},
   "outputs": [
    {
     "name": "stdout",
     "output_type": "stream",
     "text": [
      "unique to palate\n",
      "[]\n"
     ]
    }
   ],
   "source": [
    "print(\"unique to palate\")\n",
    "print([x for x in palatetraits if (x not in appearancetraits and x not in aromatraits and x not in overalltraits and x not in tastetraits)])\n"
   ]
  },
  {
   "cell_type": "code",
   "execution_count": 31,
   "metadata": {},
   "outputs": [
    {
     "name": "stdout",
     "output_type": "stream",
     "text": [
      "unique to taste\n",
      "[]\n"
     ]
    }
   ],
   "source": [
    "print(\"unique to taste\")\n",
    "print([x for x in tastetraits if (x not in appearancetraits and x not in aromatraits and x not in palatetraits and x not in overalltraits)])\n"
   ]
  },
  {
   "cell_type": "code",
   "execution_count": 23,
   "metadata": {},
   "outputs": [
    {
     "name": "stdout",
     "output_type": "stream",
     "text": [
      "present in all:\n",
      "['proportion_unique', 'part_of_speech_NN', 'sentiment_joy', 'sentiment_sadness', 'part_of_speech_NNS']\n"
     ]
    }
   ],
   "source": [
    "\n",
    "print(\"present in all:\")\n",
    "print([x for x in appearancetraits if (x in aromatraits and x in overalltraits and x in palatetraits and x in tastetraits)])"
   ]
  }
 ],
 "metadata": {
  "kernelspec": {
   "display_name": "Python 3",
   "language": "python",
   "name": "python3"
  },
  "language_info": {
   "codemirror_mode": {
    "name": "ipython",
    "version": 3
   },
   "file_extension": ".py",
   "mimetype": "text/x-python",
   "name": "python",
   "nbconvert_exporter": "python",
   "pygments_lexer": "ipython3",
   "version": "3.6.5"
  }
 },
 "nbformat": 4,
 "nbformat_minor": 2
}
