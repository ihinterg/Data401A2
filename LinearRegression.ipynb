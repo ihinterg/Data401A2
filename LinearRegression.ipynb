{
 "cells": [
  {
   "cell_type": "code",
   "execution_count": 2,
   "metadata": {},
   "outputs": [],
   "source": [
    "import pandas as pd\n",
    "import numpy as np\n",
    "import matplotlib.pyplot as plt\n",
    "from sklearn import linear_model\n",
    "% matplotlib inline"
   ]
  },
  {
   "cell_type": "code",
   "execution_count": 3,
   "metadata": {},
   "outputs": [
    {
     "data": {
      "text/html": [
       "<div>\n",
       "<style scoped>\n",
       "    .dataframe tbody tr th:only-of-type {\n",
       "        vertical-align: middle;\n",
       "    }\n",
       "\n",
       "    .dataframe tbody tr th {\n",
       "        vertical-align: top;\n",
       "    }\n",
       "\n",
       "    .dataframe thead th {\n",
       "        text-align: right;\n",
       "    }\n",
       "</style>\n",
       "<table border=\"1\" class=\"dataframe\">\n",
       "  <thead>\n",
       "    <tr style=\"text-align: right;\">\n",
       "      <th></th>\n",
       "      <th>beer/ABV</th>\n",
       "      <th>beer/beerId</th>\n",
       "      <th>beer/brewerId</th>\n",
       "      <th>stopwordcount</th>\n",
       "      <th>charcount</th>\n",
       "      <th>cursewordcount</th>\n",
       "      <th>uniquecursewordcount</th>\n",
       "      <th>exceptional</th>\n",
       "      <th>excellent</th>\n",
       "      <th>fantastic</th>\n",
       "      <th>wonderful</th>\n",
       "      <th>highly</th>\n",
       "      <th>ok</th>\n",
       "      <th>average</th>\n",
       "      <th>bad</th>\n",
       "      <th>corn</th>\n",
       "      <th>sipper</th>\n",
       "      <th>group_lda</th>\n",
       "    </tr>\n",
       "  </thead>\n",
       "  <tbody>\n",
       "    <tr>\n",
       "      <th>0</th>\n",
       "      <td>5.0</td>\n",
       "      <td>46634</td>\n",
       "      <td>14338</td>\n",
       "      <td>42</td>\n",
       "      <td>415</td>\n",
       "      <td>0</td>\n",
       "      <td>0</td>\n",
       "      <td>0</td>\n",
       "      <td>0</td>\n",
       "      <td>0</td>\n",
       "      <td>0</td>\n",
       "      <td>0</td>\n",
       "      <td>0</td>\n",
       "      <td>0</td>\n",
       "      <td>0</td>\n",
       "      <td>0</td>\n",
       "      <td>0</td>\n",
       "      <td>0</td>\n",
       "    </tr>\n",
       "    <tr>\n",
       "      <th>1</th>\n",
       "      <td>11.0</td>\n",
       "      <td>3003</td>\n",
       "      <td>395</td>\n",
       "      <td>42</td>\n",
       "      <td>450</td>\n",
       "      <td>0</td>\n",
       "      <td>0</td>\n",
       "      <td>0</td>\n",
       "      <td>0</td>\n",
       "      <td>0</td>\n",
       "      <td>0</td>\n",
       "      <td>0</td>\n",
       "      <td>0</td>\n",
       "      <td>0</td>\n",
       "      <td>1</td>\n",
       "      <td>0</td>\n",
       "      <td>0</td>\n",
       "      <td>1</td>\n",
       "    </tr>\n",
       "    <tr>\n",
       "      <th>2</th>\n",
       "      <td>4.7</td>\n",
       "      <td>961</td>\n",
       "      <td>365</td>\n",
       "      <td>21</td>\n",
       "      <td>312</td>\n",
       "      <td>0</td>\n",
       "      <td>0</td>\n",
       "      <td>0</td>\n",
       "      <td>0</td>\n",
       "      <td>0</td>\n",
       "      <td>0</td>\n",
       "      <td>0</td>\n",
       "      <td>0</td>\n",
       "      <td>0</td>\n",
       "      <td>0</td>\n",
       "      <td>0</td>\n",
       "      <td>0</td>\n",
       "      <td>1</td>\n",
       "    </tr>\n",
       "    <tr>\n",
       "      <th>3</th>\n",
       "      <td>4.4</td>\n",
       "      <td>429</td>\n",
       "      <td>1</td>\n",
       "      <td>27</td>\n",
       "      <td>312</td>\n",
       "      <td>0</td>\n",
       "      <td>0</td>\n",
       "      <td>0</td>\n",
       "      <td>0</td>\n",
       "      <td>0</td>\n",
       "      <td>0</td>\n",
       "      <td>0</td>\n",
       "      <td>0</td>\n",
       "      <td>0</td>\n",
       "      <td>0</td>\n",
       "      <td>0</td>\n",
       "      <td>0</td>\n",
       "      <td>0</td>\n",
       "    </tr>\n",
       "    <tr>\n",
       "      <th>4</th>\n",
       "      <td>4.4</td>\n",
       "      <td>4904</td>\n",
       "      <td>1417</td>\n",
       "      <td>49</td>\n",
       "      <td>383</td>\n",
       "      <td>0</td>\n",
       "      <td>0</td>\n",
       "      <td>0</td>\n",
       "      <td>0</td>\n",
       "      <td>0</td>\n",
       "      <td>0</td>\n",
       "      <td>0</td>\n",
       "      <td>0</td>\n",
       "      <td>0</td>\n",
       "      <td>0</td>\n",
       "      <td>0</td>\n",
       "      <td>0</td>\n",
       "      <td>1</td>\n",
       "    </tr>\n",
       "  </tbody>\n",
       "</table>\n",
       "</div>"
      ],
      "text/plain": [
       "   beer/ABV  beer/beerId  beer/brewerId  stopwordcount  charcount  \\\n",
       "0       5.0        46634          14338             42        415   \n",
       "1      11.0         3003            395             42        450   \n",
       "2       4.7          961            365             21        312   \n",
       "3       4.4          429              1             27        312   \n",
       "4       4.4         4904           1417             49        383   \n",
       "\n",
       "   cursewordcount  uniquecursewordcount  exceptional  excellent  fantastic  \\\n",
       "0               0                     0            0          0          0   \n",
       "1               0                     0            0          0          0   \n",
       "2               0                     0            0          0          0   \n",
       "3               0                     0            0          0          0   \n",
       "4               0                     0            0          0          0   \n",
       "\n",
       "   wonderful  highly  ok  average  bad  corn  sipper  group_lda  \n",
       "0          0       0   0        0    0     0       0          0  \n",
       "1          0       0   0        0    1     0       0          1  \n",
       "2          0       0   0        0    0     0       0          1  \n",
       "3          0       0   0        0    0     0       0          0  \n",
       "4          0       0   0        0    0     0       0          1  "
      ]
     },
     "execution_count": 3,
     "metadata": {},
     "output_type": "execute_result"
    }
   ],
   "source": [
    "df = pd.read_csv(\"all_attributes.csv\")\n",
    "targets = df.iloc[:, [8, 9, 10, 11, 12]]\n",
    "independents = df.drop(df.columns[[0, 1, 2, 6, 7, 8, 9, 10, 11, 12, 13, 14, 19]], axis=1)\n",
    "independents.head()"
   ]
  },
  {
   "cell_type": "code",
   "execution_count": 4,
   "metadata": {},
   "outputs": [
    {
     "data": {
      "text/html": [
       "<div>\n",
       "<style scoped>\n",
       "    .dataframe tbody tr th:only-of-type {\n",
       "        vertical-align: middle;\n",
       "    }\n",
       "\n",
       "    .dataframe tbody tr th {\n",
       "        vertical-align: top;\n",
       "    }\n",
       "\n",
       "    .dataframe thead th {\n",
       "        text-align: right;\n",
       "    }\n",
       "</style>\n",
       "<table border=\"1\" class=\"dataframe\">\n",
       "  <thead>\n",
       "    <tr style=\"text-align: right;\">\n",
       "      <th></th>\n",
       "      <th>review/appearance</th>\n",
       "      <th>review/aroma</th>\n",
       "      <th>review/overall</th>\n",
       "      <th>review/palate</th>\n",
       "      <th>review/taste</th>\n",
       "    </tr>\n",
       "  </thead>\n",
       "  <tbody>\n",
       "    <tr>\n",
       "      <th>0</th>\n",
       "      <td>4.0</td>\n",
       "      <td>4.0</td>\n",
       "      <td>4.0</td>\n",
       "      <td>4.0</td>\n",
       "      <td>4.0</td>\n",
       "    </tr>\n",
       "    <tr>\n",
       "      <th>1</th>\n",
       "      <td>4.0</td>\n",
       "      <td>3.5</td>\n",
       "      <td>3.5</td>\n",
       "      <td>3.5</td>\n",
       "      <td>3.0</td>\n",
       "    </tr>\n",
       "    <tr>\n",
       "      <th>2</th>\n",
       "      <td>3.5</td>\n",
       "      <td>4.0</td>\n",
       "      <td>3.5</td>\n",
       "      <td>3.5</td>\n",
       "      <td>3.5</td>\n",
       "    </tr>\n",
       "    <tr>\n",
       "      <th>3</th>\n",
       "      <td>3.0</td>\n",
       "      <td>3.0</td>\n",
       "      <td>2.5</td>\n",
       "      <td>3.0</td>\n",
       "      <td>3.0</td>\n",
       "    </tr>\n",
       "    <tr>\n",
       "      <th>4</th>\n",
       "      <td>4.0</td>\n",
       "      <td>3.0</td>\n",
       "      <td>3.0</td>\n",
       "      <td>3.5</td>\n",
       "      <td>2.5</td>\n",
       "    </tr>\n",
       "  </tbody>\n",
       "</table>\n",
       "</div>"
      ],
      "text/plain": [
       "   review/appearance  review/aroma  review/overall  review/palate  \\\n",
       "0                4.0           4.0             4.0            4.0   \n",
       "1                4.0           3.5             3.5            3.5   \n",
       "2                3.5           4.0             3.5            3.5   \n",
       "3                3.0           3.0             2.5            3.0   \n",
       "4                4.0           3.0             3.0            3.5   \n",
       "\n",
       "   review/taste  \n",
       "0           4.0  \n",
       "1           3.0  \n",
       "2           3.5  \n",
       "3           3.0  \n",
       "4           2.5  "
      ]
     },
     "execution_count": 4,
     "metadata": {},
     "output_type": "execute_result"
    }
   ],
   "source": [
    "targets.head()"
   ]
  },
  {
   "cell_type": "markdown",
   "metadata": {},
   "source": [
    "#### Apearance"
   ]
  },
  {
   "cell_type": "code",
   "execution_count": 10,
   "metadata": {},
   "outputs": [
    {
     "name": "stdout",
     "output_type": "stream",
     "text": [
      "Regular R^2: 0.152332657664\n",
      "Regular SSE: 11013.487388324798\n",
      "Lasso R^2: 0.0662758334632\n",
      "Lasso SSE: 12131.597878938586\n"
     ]
    }
   ],
   "source": [
    "X = independents\n",
    "y = targets.iloc[:, 0]\n",
    "\n",
    "regr = linear_model.LinearRegression().fit(X, y)\n",
    "print(\"Regular R^2: \" + str(regr.score(X, y)))\n",
    "print(\"Regular SSE: \" + str(sum((regr.predict(X) - y) ** 2)))\n",
    "\n",
    "las_reg = linear_model.LassoCV(cv = 10).fit(X,y)\n",
    "print(\"Lasso R^2: \" + str(las_reg.score(X, y)))\n",
    "print(\"Lasso SSE: \" + str(sum((las_reg.predict(X) - y) ** 2)))"
   ]
  },
  {
   "cell_type": "markdown",
   "metadata": {},
   "source": [
    "#### Aroma"
   ]
  },
  {
   "cell_type": "code",
   "execution_count": 11,
   "metadata": {},
   "outputs": [
    {
     "name": "stdout",
     "output_type": "stream",
     "text": [
      "Regular R^2: 0.237628626975\n",
      "Regular SSE: 13246.411963577131\n",
      "Lasso R^2: 0.0414001889066\n",
      "Lasso SSE: 16655.934961937604\n"
     ]
    }
   ],
   "source": [
    "X = independents\n",
    "y = targets.iloc[:, 1]\n",
    "\n",
    "regr = linear_model.LinearRegression().fit(X, y)\n",
    "print(\"Regular R^2: \" + str(regr.score(X, y)))\n",
    "print(\"Regular SSE: \" + str(sum((regr.predict(X) - y) ** 2)))\n",
    "\n",
    "las_reg = linear_model.LassoCV(cv = 10).fit(X,y)\n",
    "print(\"Lasso R^2: \" + str(las_reg.score(X, y)))\n",
    "print(\"Lasso SSE: \" + str(sum((las_reg.predict(X) - y) ** 2)))"
   ]
  },
  {
   "cell_type": "markdown",
   "metadata": {},
   "source": [
    "#### Palate"
   ]
  },
  {
   "cell_type": "code",
   "execution_count": 12,
   "metadata": {},
   "outputs": [
    {
     "name": "stdout",
     "output_type": "stream",
     "text": [
      "Regular R^2: 0.203779391689\n",
      "Regular SSE: 13319.336587065038\n",
      "Lasso R^2: 0.0782111472506\n",
      "Lasso SSE: 15419.86713709262\n"
     ]
    }
   ],
   "source": [
    "X = independents\n",
    "y = targets.iloc[:, 3]\n",
    "\n",
    "regr = linear_model.LinearRegression().fit(X, y)\n",
    "print(\"Regular R^2: \" + str(regr.score(X, y)))\n",
    "print(\"Regular SSE: \" + str(sum((regr.predict(X) - y) ** 2)))\n",
    "\n",
    "las_reg = linear_model.LassoCV(cv = 10).fit(X,y)\n",
    "print(\"Lasso R^2: \" + str(las_reg.score(X, y)))\n",
    "print(\"Lasso SSE: \" + str(sum((las_reg.predict(X) - y) ** 2)))"
   ]
  },
  {
   "cell_type": "markdown",
   "metadata": {},
   "source": [
    "#### Taste"
   ]
  },
  {
   "cell_type": "code",
   "execution_count": 13,
   "metadata": {},
   "outputs": [
    {
     "name": "stdout",
     "output_type": "stream",
     "text": [
      "Regular R^2: 0.235045616963\n",
      "Regular SSE: 14721.54891751806\n",
      "Lasso R^2: 0.0872391601305\n",
      "Lasso SSE: 17566.08453015123\n"
     ]
    }
   ],
   "source": [
    "X = independents\n",
    "y = targets.iloc[:, 4]\n",
    "\n",
    "regr = linear_model.LinearRegression().fit(X, y)\n",
    "print(\"Regular R^2: \" + str(regr.score(X, y)))\n",
    "print(\"Regular SSE: \" + str(sum((regr.predict(X) - y) ** 2)))\n",
    "\n",
    "las_reg = linear_model.LassoCV(cv = 10).fit(X,y)\n",
    "print(\"Lasso R^2: \" + str(las_reg.score(X, y)))\n",
    "print(\"Lasso SSE: \" + str(sum((las_reg.predict(X) - y) ** 2)))"
   ]
  },
  {
   "cell_type": "markdown",
   "metadata": {},
   "source": [
    "#### Overall"
   ]
  },
  {
   "cell_type": "code",
   "execution_count": 14,
   "metadata": {},
   "outputs": [
    {
     "name": "stdout",
     "output_type": "stream",
     "text": [
      "Regular R^2: 0.135896454203\n",
      "Regular SSE: 15892.185145868403\n",
      "Lasso R^2: 0.0237631327677\n",
      "Lasso SSE: 17954.48834313506\n"
     ]
    }
   ],
   "source": [
    "X = independents\n",
    "y = targets.iloc[:, 2]\n",
    "\n",
    "regr = linear_model.LinearRegression().fit(X, y)\n",
    "print(\"Regular R^2: \" + str(regr.score(X, y)))\n",
    "print(\"Regular SSE: \" + str(sum((regr.predict(X) - y) ** 2)))\n",
    "\n",
    "las_reg = linear_model.LassoCV(cv = 10).fit(X,y)\n",
    "print(\"Lasso R^2: \" + str(las_reg.score(X, y)))\n",
    "print(\"Lasso SSE: \" + str(sum((las_reg.predict(X) - y) ** 2)))"
   ]
  },
  {
   "cell_type": "code",
   "execution_count": null,
   "metadata": {},
   "outputs": [],
   "source": []
  }
 ],
 "metadata": {
  "kernelspec": {
   "display_name": "Python 3",
   "language": "python",
   "name": "python3"
  },
  "language_info": {
   "codemirror_mode": {
    "name": "ipython",
    "version": 3
   },
   "file_extension": ".py",
   "mimetype": "text/x-python",
   "name": "python",
   "nbconvert_exporter": "python",
   "pygments_lexer": "ipython3",
   "version": "3.6.5"
  }
 },
 "nbformat": 4,
 "nbformat_minor": 2
}
