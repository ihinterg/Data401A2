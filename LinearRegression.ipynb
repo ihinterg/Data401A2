{
 "cells": [
  {
   "cell_type": "code",
   "execution_count": null,
   "metadata": {},
   "outputs": [],
   "source": [
    "import pandas as pd\n",
    "import numpy as np\n",
    "import matplotlib.pyplot as plt\n",
    "import statsmodels.api as sm\n",
    "from sklearn import linear_model\n",
    "% matplotlib inline"
   ]
  },
  {
   "cell_type": "code",
   "execution_count": null,
   "metadata": {},
   "outputs": [],
   "source": [
    "finalset = pd.read_csv(\"finalset.csv\")"
   ]
  },
  {
   "cell_type": "code",
   "execution_count": null,
   "metadata": {},
   "outputs": [],
   "source": [
    "finalset.shape"
   ]
  },
  {
   "cell_type": "code",
   "execution_count": null,
   "metadata": {},
   "outputs": [],
   "source": [
    "depcols = ['review/appearance', 'review/aroma', 'review/overall',\n",
    "           'review/palate', 'review/taste']"
   ]
  },
  {
   "cell_type": "code",
   "execution_count": null,
   "metadata": {},
   "outputs": [],
   "source": [
    "y_appearance = finalset['review/appearance']\n",
    "y_aroma = finalset['review/aroma']\n",
    "y_overall = finalset['review/overall']\n",
    "y_palate = finalset['review/palate']\n",
    "y_taste = finalset['review/taste']"
   ]
  },
  {
   "cell_type": "code",
   "execution_count": null,
   "metadata": {},
   "outputs": [],
   "source": [
    "xcols = finalset.drop(depcols, axis = 1)\n",
    "xcols = xcols.drop([\"index\", \"Unnamed: 0\"], axis = 1)"
   ]
  },
  {
   "cell_type": "code",
   "execution_count": null,
   "metadata": {},
   "outputs": [],
   "source": [
    "xcols.shape"
   ]
  },
  {
   "cell_type": "code",
   "execution_count": null,
   "metadata": {},
   "outputs": [],
   "source": [
    "def BICcal(X, y, BIC_diff):\n",
    "  cols = list(X.columns)\n",
    "  good_vars = []\n",
    "  good_vars_bic = []\n",
    "  model = sm.OLS(endog=y, exog=X, missing='drop')\n",
    "  results = model.fit()\n",
    "  old_BIC =  np.inf\n",
    "  while len(cols) > 0:\n",
    "    bestbic = 100000000000\n",
    "    bestvar = None\n",
    "    for variable in cols:\n",
    "      model = sm.OLS(endog=y, exog=X[good_vars + [variable]], missing='drop')\n",
    "      results = model.fit()\n",
    "      bic = results.bic\n",
    "      if bic < bestbic:\n",
    "        bestbic = bic\n",
    "        bestvar = variable\n",
    "    if (old_BIC - bestbic) > BIC_diff: \n",
    "      good_vars.append(bestvar)\n",
    "      cols.remove(bestvar)\n",
    "      good_vars_bic.append(bestbic)\n",
    "      old_BIC = bestbic\n",
    "    else:\n",
    "      return good_vars, good_vars_bic\n",
    "  return good_vars, good_vars_bic"
   ]
  },
  {
   "cell_type": "code",
   "execution_count": null,
   "metadata": {},
   "outputs": [],
   "source": [
    "appearancetraits, bic_currentappearance = BICcal(xcols, y_appearance, -.00001)"
   ]
  },
  {
   "cell_type": "code",
   "execution_count": null,
   "metadata": {},
   "outputs": [],
   "source": [
    "len(appearancetraits)"
   ]
  },
  {
   "cell_type": "code",
   "execution_count": null,
   "metadata": {},
   "outputs": [],
   "source": [
    "aromatraits, bic_currentaroma = BICcal(xcols, y_aroma, -.000001)\n",
    "overalltraits, bic_currentoverall = BICcal(xcols, y_overall, -.000001)\n",
    "palatetraits, bic_currentpalate = BICcal(xcols, y_palate, -.000001)\n",
    "tastetraits, bic_currenttaste = BICcal(xcols, y_taste, -.000001)"
   ]
  },
  {
   "cell_type": "code",
   "execution_count": null,
   "metadata": {},
   "outputs": [],
   "source": [
    "print(\"unique to appearance\")\n",
    "print([x for x in appearancetraits if (x not in aromatraits and x not in overalltraits and x not in palatetraits and x not in tastetraits)])\n"
   ]
  },
  {
   "cell_type": "code",
   "execution_count": null,
   "metadata": {},
   "outputs": [],
   "source": [
    "print(\"unique to aroma\")\n",
    "print([x for x in aromatraits if (x not in appearancetraits and x not in overalltraits and x not in palatetraits and x not in tastetraits)])\n"
   ]
  },
  {
   "cell_type": "code",
   "execution_count": null,
   "metadata": {},
   "outputs": [],
   "source": [
    "print(\"unique to overall\")\n",
    "print([x for x in overalltraits if (x not in appearancetraits and x not in aromatraits and x not in palatetraits and x not in tastetraits)])\n"
   ]
  },
  {
   "cell_type": "code",
   "execution_count": null,
   "metadata": {},
   "outputs": [],
   "source": [
    "print(\"unique to palate\")\n",
    "print([x for x in palatetraits if (x not in appearancetraits and x not in aromatraits and x not in overalltraits and x not in tastetraits)])\n"
   ]
  },
  {
   "cell_type": "code",
   "execution_count": null,
   "metadata": {},
   "outputs": [],
   "source": [
    "print(\"unique to taste\")\n",
    "print([x for x in tastetraits if (x not in appearancetraits2 and x not in aromatraits and x not in palatetraits and x not in overalltraits)])\n"
   ]
  },
  {
   "cell_type": "code",
   "execution_count": null,
   "metadata": {},
   "outputs": [],
   "source": [
    "print(\"present in all:\")\n",
    "print([x for x in appearancetraits if (x in aromatraits and x in overalltraits and x in palatetraits and x in tastetraits)])"
   ]
  },
  {
   "cell_type": "code",
   "execution_count": null,
   "metadata": {},
   "outputs": [],
   "source": [
    "np.random.seed(0)\n",
    "validx = np.random.choice(xcols.index, size = int(xcols.shape[0] * .1), replace = False)\n",
    "trainidx = [x for x in xcols.index if x not in validx]"
   ]
  },
  {
   "cell_type": "code",
   "execution_count": null,
   "metadata": {},
   "outputs": [],
   "source": [
    "#for appearance\n",
    "\n",
    "df1 = xcols[appearancetraits].copy()\n",
    "X_train = df1.iloc[trainidx].values\n",
    "X_val = df1.iloc[validx].values\n",
    "\n",
    "y_train = y_appearance.iloc[trainidx]\n",
    "y_val = y_appearance.iloc[validx]\n",
    "\n",
    "regr = linear_model.LinearRegression().fit(X_train, y_train)\n",
    "print(\"Train R^2: \" + str(regr.score(X_train, y_train)))\n",
    "print(\"Val MSE: \" + str(sum((regr.predict(X_val) - y_val) ** 2) / X_val.shape[0]))"
   ]
  },
  {
   "cell_type": "code",
   "execution_count": null,
   "metadata": {},
   "outputs": [],
   "source": [
    "#for aroma\n",
    "\n",
    "df1 = xcols[aromatraits].copy()\n",
    "X_train = df1.iloc[trainidx].values\n",
    "X_val = df1.iloc[validx].values\n",
    "\n",
    "y_train = y_aroma.iloc[trainidx]\n",
    "y_val = y_aroma.iloc[validx]\n",
    "\n",
    "regr = linear_model.LinearRegression().fit(X_train, y_train)\n",
    "print(\"Train R^2: \" + str(regr.score(X_train, y_train)))\n",
    "print(\"Val MSE: \" + str(sum((regr.predict(X_val) - y_val) ** 2) / X_val.shape[0]))"
   ]
  },
  {
   "cell_type": "code",
   "execution_count": null,
   "metadata": {},
   "outputs": [],
   "source": [
    "#for overall\n",
    "\n",
    "df1 = xcols[overalltraits].copy()\n",
    "X_train = df1.iloc[trainidx].values\n",
    "X_val = df1.iloc[validx].values\n",
    "\n",
    "y_train = y_overall.iloc[trainidx]\n",
    "y_val = y_overall.iloc[validx]\n",
    "\n",
    "regr = linear_model.LinearRegression().fit(X_train, y_train)\n",
    "print(\"Train R^2: \" + str(regr.score(X_train, y_train)))\n",
    "print(\"Val MSE: \" + str(sum((regr.predict(X_val) - y_val) ** 2) / X_val.shape[0]))"
   ]
  },
  {
   "cell_type": "code",
   "execution_count": null,
   "metadata": {},
   "outputs": [],
   "source": [
    "#for palate\n",
    "\n",
    "df1 = xcols[palatetraits].copy()\n",
    "X_train = df1.iloc[trainidx].values\n",
    "X_val = df1.iloc[validx].values\n",
    "\n",
    "y_train = y_palate.iloc[trainidx]\n",
    "y_val = y_palate.iloc[validx]\n",
    "\n",
    "regr = linear_model.LinearRegression().fit(X_train, y_train)\n",
    "print(\"Train R^2: \" + str(regr.score(X_train, y_train)))\n",
    "print(\"Val MSE: \" + str(sum((regr.predict(X_val) - y_val) ** 2) / X_val.shape[0]))"
   ]
  },
  {
   "cell_type": "code",
   "execution_count": null,
   "metadata": {},
   "outputs": [],
   "source": [
    "#for taste\n",
    "\n",
    "df1 = xcols[tastetraits].copy()\n",
    "X_train = df1.iloc[trainidx].values\n",
    "X_val = df1.iloc[validx].values\n",
    "\n",
    "y_train = y_taste.iloc[trainidx]\n",
    "y_val = y_taste.iloc[validx]\n",
    "\n",
    "regr = linear_model.LinearRegression().fit(X_train, y_train)\n",
    "print(\"Train R^2: \" + str(regr.score(X_train, y_train)))\n",
    "print(\"Val MSE: \" + str(sum((regr.predict(X_val) - y_val) ** 2) / X_val.shape[0]))"
   ]
  },
  {
   "cell_type": "code",
   "execution_count": null,
   "metadata": {},
   "outputs": [],
   "source": [
    "def BICChart(bic, varnames, title):\n",
    "  fig = plt.figure(figsize=(20,7))\n",
    "  plt.xlabel(\"Attributes\")\n",
    "  plt.ylabel('BIC')\n",
    "  plt.title(title)\n",
    "  ax = plt.plot(range(len(varnames)), bic)\n",
    "  _ = plt.xticks(range(len(varnames)), varnames, rotation = 45, ha = \"right\", fontsize = 12)"
   ]
  },
  {
   "cell_type": "code",
   "execution_count": null,
   "metadata": {},
   "outputs": [],
   "source": [
    "BICChart(bic_currentappearance, appearancetraits2, \"Appearance Features\")\n",
    "BICChart(bic_currentoverall, overalltraits, \"Overall Features\")\n",
    "BICChart(bic_currentaroma, aromatraits, \"Aroma Features\")\n",
    "BICChart(bic_currentpalate, palatetraits, \"Palate Features\")\n",
    "BICChart(bic_currenttaste, tastetraits, \"Taste Features\")"
   ]
  }
 ],
 "metadata": {
  "kernelspec": {
   "display_name": "Python 3",
   "language": "python",
   "name": "python3"
  },
  "language_info": {
   "codemirror_mode": {
    "name": "ipython",
    "version": 3
   },
   "file_extension": ".py",
   "mimetype": "text/x-python",
   "name": "python",
   "nbconvert_exporter": "python",
   "pygments_lexer": "ipython3",
   "version": "3.6.5"
  }
 },
 "nbformat": 4,
 "nbformat_minor": 2
}
