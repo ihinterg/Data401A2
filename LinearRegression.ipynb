{
 "cells": [
  {
   "cell_type": "code",
   "execution_count": 19,
   "metadata": {},
   "outputs": [],
   "source": [
    "import pandas as pd\n",
    "import numpy as np\n",
    "import matplotlib.pyplot as plt\n",
    "from sklearn import linear_model\n",
    "% matplotlib inline"
   ]
  },
  {
   "cell_type": "code",
   "execution_count": 20,
   "metadata": {},
   "outputs": [],
   "source": [
    "df = pd.read_csv(\"all_attributes.csv\")\n",
    "targets = df.iloc[:, [8, 9, 10, 11, 12]]\n",
    "# independents = df.drop(df.columns[[0, 1, 2, 6, 7, 8, 9, 10, 11, 12, 13, 14, 19]], axis=1)\n",
    "# independents.head()\n",
    "beer = pd.read_csv(\"anna.csv\")\n",
    "independents = pd.concat([pd.read_csv(\"tfidfsentiment.csv\"), pd.read_csv(\"sentiments.csv\")], axis=1)"
   ]
  },
  {
   "cell_type": "code",
   "execution_count": 21,
   "metadata": {},
   "outputs": [],
   "source": [
    "independents['stopwordcount'] = beer['stopwordcount']\n",
    "independents['charcount'] = beer['charcount']\n",
    "independents['cursewordcount'] = beer['cursewordcount']\n",
    "independents['uniquecursewordcount'] = beer['uniquecursewordcount']"
   ]
  },
  {
   "cell_type": "code",
   "execution_count": 22,
   "metadata": {},
   "outputs": [
    {
     "data": {
      "text/html": [
       "<div>\n",
       "<style scoped>\n",
       "    .dataframe tbody tr th:only-of-type {\n",
       "        vertical-align: middle;\n",
       "    }\n",
       "\n",
       "    .dataframe tbody tr th {\n",
       "        vertical-align: top;\n",
       "    }\n",
       "\n",
       "    .dataframe thead th {\n",
       "        text-align: right;\n",
       "    }\n",
       "</style>\n",
       "<table border=\"1\" class=\"dataframe\">\n",
       "  <thead>\n",
       "    <tr style=\"text-align: right;\">\n",
       "      <th></th>\n",
       "      <th>Unnamed: 0</th>\n",
       "      <th>exceptional</th>\n",
       "      <th>excellent</th>\n",
       "      <th>fantastic</th>\n",
       "      <th>wonderful</th>\n",
       "      <th>highly</th>\n",
       "      <th>perfect</th>\n",
       "      <th>delicious</th>\n",
       "      <th>incredible</th>\n",
       "      <th>amazing</th>\n",
       "      <th>...</th>\n",
       "      <th>ok</th>\n",
       "      <th>average</th>\n",
       "      <th>bad</th>\n",
       "      <th>corn</th>\n",
       "      <th>sipper</th>\n",
       "      <th>group_lda</th>\n",
       "      <th>stopwordcount</th>\n",
       "      <th>charcount</th>\n",
       "      <th>cursewordcount</th>\n",
       "      <th>uniquecursewordcount</th>\n",
       "    </tr>\n",
       "  </thead>\n",
       "  <tbody>\n",
       "    <tr>\n",
       "      <th>0</th>\n",
       "      <td>0</td>\n",
       "      <td>0.0</td>\n",
       "      <td>0.0</td>\n",
       "      <td>0.0</td>\n",
       "      <td>0.0</td>\n",
       "      <td>0.0</td>\n",
       "      <td>0.0</td>\n",
       "      <td>0.0</td>\n",
       "      <td>0.0</td>\n",
       "      <td>0.0</td>\n",
       "      <td>...</td>\n",
       "      <td>0</td>\n",
       "      <td>0</td>\n",
       "      <td>0</td>\n",
       "      <td>0</td>\n",
       "      <td>0</td>\n",
       "      <td>0</td>\n",
       "      <td>42</td>\n",
       "      <td>415</td>\n",
       "      <td>0</td>\n",
       "      <td>0</td>\n",
       "    </tr>\n",
       "    <tr>\n",
       "      <th>1</th>\n",
       "      <td>1</td>\n",
       "      <td>0.0</td>\n",
       "      <td>0.0</td>\n",
       "      <td>0.0</td>\n",
       "      <td>0.0</td>\n",
       "      <td>0.0</td>\n",
       "      <td>0.0</td>\n",
       "      <td>0.0</td>\n",
       "      <td>0.0</td>\n",
       "      <td>0.0</td>\n",
       "      <td>...</td>\n",
       "      <td>0</td>\n",
       "      <td>0</td>\n",
       "      <td>1</td>\n",
       "      <td>0</td>\n",
       "      <td>0</td>\n",
       "      <td>1</td>\n",
       "      <td>42</td>\n",
       "      <td>450</td>\n",
       "      <td>0</td>\n",
       "      <td>0</td>\n",
       "    </tr>\n",
       "    <tr>\n",
       "      <th>2</th>\n",
       "      <td>2</td>\n",
       "      <td>0.0</td>\n",
       "      <td>0.0</td>\n",
       "      <td>0.0</td>\n",
       "      <td>0.0</td>\n",
       "      <td>0.0</td>\n",
       "      <td>0.0</td>\n",
       "      <td>0.0</td>\n",
       "      <td>0.0</td>\n",
       "      <td>0.0</td>\n",
       "      <td>...</td>\n",
       "      <td>0</td>\n",
       "      <td>0</td>\n",
       "      <td>0</td>\n",
       "      <td>0</td>\n",
       "      <td>0</td>\n",
       "      <td>1</td>\n",
       "      <td>21</td>\n",
       "      <td>312</td>\n",
       "      <td>0</td>\n",
       "      <td>0</td>\n",
       "    </tr>\n",
       "    <tr>\n",
       "      <th>3</th>\n",
       "      <td>3</td>\n",
       "      <td>0.0</td>\n",
       "      <td>0.0</td>\n",
       "      <td>0.0</td>\n",
       "      <td>0.0</td>\n",
       "      <td>0.0</td>\n",
       "      <td>0.0</td>\n",
       "      <td>0.0</td>\n",
       "      <td>0.0</td>\n",
       "      <td>0.0</td>\n",
       "      <td>...</td>\n",
       "      <td>0</td>\n",
       "      <td>0</td>\n",
       "      <td>0</td>\n",
       "      <td>0</td>\n",
       "      <td>0</td>\n",
       "      <td>0</td>\n",
       "      <td>27</td>\n",
       "      <td>312</td>\n",
       "      <td>0</td>\n",
       "      <td>0</td>\n",
       "    </tr>\n",
       "    <tr>\n",
       "      <th>4</th>\n",
       "      <td>4</td>\n",
       "      <td>0.0</td>\n",
       "      <td>0.0</td>\n",
       "      <td>0.0</td>\n",
       "      <td>0.0</td>\n",
       "      <td>0.0</td>\n",
       "      <td>0.0</td>\n",
       "      <td>0.0</td>\n",
       "      <td>0.0</td>\n",
       "      <td>0.0</td>\n",
       "      <td>...</td>\n",
       "      <td>0</td>\n",
       "      <td>0</td>\n",
       "      <td>0</td>\n",
       "      <td>0</td>\n",
       "      <td>0</td>\n",
       "      <td>1</td>\n",
       "      <td>49</td>\n",
       "      <td>383</td>\n",
       "      <td>0</td>\n",
       "      <td>0</td>\n",
       "    </tr>\n",
       "  </tbody>\n",
       "</table>\n",
       "<p>5 rows × 1017 columns</p>\n",
       "</div>"
      ],
      "text/plain": [
       "   Unnamed: 0  exceptional  excellent  fantastic  wonderful  highly  perfect  \\\n",
       "0           0          0.0        0.0        0.0        0.0     0.0      0.0   \n",
       "1           1          0.0        0.0        0.0        0.0     0.0      0.0   \n",
       "2           2          0.0        0.0        0.0        0.0     0.0      0.0   \n",
       "3           3          0.0        0.0        0.0        0.0     0.0      0.0   \n",
       "4           4          0.0        0.0        0.0        0.0     0.0      0.0   \n",
       "\n",
       "   delicious  incredible  amazing          ...           ok  average  bad  \\\n",
       "0        0.0         0.0      0.0          ...            0        0    0   \n",
       "1        0.0         0.0      0.0          ...            0        0    1   \n",
       "2        0.0         0.0      0.0          ...            0        0    0   \n",
       "3        0.0         0.0      0.0          ...            0        0    0   \n",
       "4        0.0         0.0      0.0          ...            0        0    0   \n",
       "\n",
       "   corn  sipper  group_lda  stopwordcount  charcount  cursewordcount  \\\n",
       "0     0       0          0             42        415               0   \n",
       "1     0       0          1             42        450               0   \n",
       "2     0       0          1             21        312               0   \n",
       "3     0       0          0             27        312               0   \n",
       "4     0       0          1             49        383               0   \n",
       "\n",
       "   uniquecursewordcount  \n",
       "0                     0  \n",
       "1                     0  \n",
       "2                     0  \n",
       "3                     0  \n",
       "4                     0  \n",
       "\n",
       "[5 rows x 1017 columns]"
      ]
     },
     "execution_count": 22,
     "metadata": {},
     "output_type": "execute_result"
    }
   ],
   "source": [
    "independents.head()"
   ]
  },
  {
   "cell_type": "code",
   "execution_count": 23,
   "metadata": {},
   "outputs": [
    {
     "data": {
      "text/html": [
       "<div>\n",
       "<style scoped>\n",
       "    .dataframe tbody tr th:only-of-type {\n",
       "        vertical-align: middle;\n",
       "    }\n",
       "\n",
       "    .dataframe tbody tr th {\n",
       "        vertical-align: top;\n",
       "    }\n",
       "\n",
       "    .dataframe thead th {\n",
       "        text-align: right;\n",
       "    }\n",
       "</style>\n",
       "<table border=\"1\" class=\"dataframe\">\n",
       "  <thead>\n",
       "    <tr style=\"text-align: right;\">\n",
       "      <th></th>\n",
       "      <th>review/appearance</th>\n",
       "      <th>review/aroma</th>\n",
       "      <th>review/overall</th>\n",
       "      <th>review/palate</th>\n",
       "      <th>review/taste</th>\n",
       "    </tr>\n",
       "  </thead>\n",
       "  <tbody>\n",
       "    <tr>\n",
       "      <th>0</th>\n",
       "      <td>4.0</td>\n",
       "      <td>4.0</td>\n",
       "      <td>4.0</td>\n",
       "      <td>4.0</td>\n",
       "      <td>4.0</td>\n",
       "    </tr>\n",
       "    <tr>\n",
       "      <th>1</th>\n",
       "      <td>4.0</td>\n",
       "      <td>3.5</td>\n",
       "      <td>3.5</td>\n",
       "      <td>3.5</td>\n",
       "      <td>3.0</td>\n",
       "    </tr>\n",
       "    <tr>\n",
       "      <th>2</th>\n",
       "      <td>3.5</td>\n",
       "      <td>4.0</td>\n",
       "      <td>3.5</td>\n",
       "      <td>3.5</td>\n",
       "      <td>3.5</td>\n",
       "    </tr>\n",
       "    <tr>\n",
       "      <th>3</th>\n",
       "      <td>3.0</td>\n",
       "      <td>3.0</td>\n",
       "      <td>2.5</td>\n",
       "      <td>3.0</td>\n",
       "      <td>3.0</td>\n",
       "    </tr>\n",
       "    <tr>\n",
       "      <th>4</th>\n",
       "      <td>4.0</td>\n",
       "      <td>3.0</td>\n",
       "      <td>3.0</td>\n",
       "      <td>3.5</td>\n",
       "      <td>2.5</td>\n",
       "    </tr>\n",
       "  </tbody>\n",
       "</table>\n",
       "</div>"
      ],
      "text/plain": [
       "   review/appearance  review/aroma  review/overall  review/palate  \\\n",
       "0                4.0           4.0             4.0            4.0   \n",
       "1                4.0           3.5             3.5            3.5   \n",
       "2                3.5           4.0             3.5            3.5   \n",
       "3                3.0           3.0             2.5            3.0   \n",
       "4                4.0           3.0             3.0            3.5   \n",
       "\n",
       "   review/taste  \n",
       "0           4.0  \n",
       "1           3.0  \n",
       "2           3.5  \n",
       "3           3.0  \n",
       "4           2.5  "
      ]
     },
     "execution_count": 23,
     "metadata": {},
     "output_type": "execute_result"
    }
   ],
   "source": [
    "targets.head()"
   ]
  },
  {
   "cell_type": "markdown",
   "metadata": {},
   "source": [
    "#### Apearance"
   ]
  },
  {
   "cell_type": "code",
   "execution_count": 24,
   "metadata": {},
   "outputs": [
    {
     "name": "stdout",
     "output_type": "stream",
     "text": [
      "Regular R^2: 0.325055523498\n",
      "Regular SSE: 8769.351027828938\n"
     ]
    }
   ],
   "source": [
    "X = independents\n",
    "y = targets.iloc[:, 0]\n",
    "\n",
    "regr = linear_model.LinearRegression().fit(X, y)\n",
    "print(\"Regular R^2: \" + str(regr.score(X, y)))\n",
    "print(\"Regular SSE: \" + str(sum((regr.predict(X) - y) ** 2)))\n",
    "\n",
    "# las_reg = linear_model.LassoCV(cv = 10).fit(X,y)\n",
    "# print(\"Lasso R^2: \" + str(las_reg.score(X, y)))\n",
    "# print(\"Lasso SSE: \" + str(sum((las_reg.predict(X) - y) ** 2)))"
   ]
  },
  {
   "cell_type": "markdown",
   "metadata": {},
   "source": [
    "#### Aroma"
   ]
  },
  {
   "cell_type": "code",
   "execution_count": 25,
   "metadata": {},
   "outputs": [
    {
     "name": "stdout",
     "output_type": "stream",
     "text": [
      "Regular R^2: 0.44519910807\n",
      "Regular SSE: 9639.817852948026\n"
     ]
    }
   ],
   "source": [
    "X = independents\n",
    "y = targets.iloc[:, 1]\n",
    "\n",
    "regr = linear_model.LinearRegression().fit(X, y)\n",
    "print(\"Regular R^2: \" + str(regr.score(X, y)))\n",
    "print(\"Regular SSE: \" + str(sum((regr.predict(X) - y) ** 2)))\n",
    "\n",
    "# las_reg = linear_model.LassoCV(cv = 10).fit(X,y)\n",
    "# print(\"Lasso R^2: \" + str(las_reg.score(X, y)))\n",
    "# print(\"Lasso SSE: \" + str(sum((las_reg.predict(X) - y) ** 2)))"
   ]
  },
  {
   "cell_type": "markdown",
   "metadata": {},
   "source": [
    "#### Palate"
   ]
  },
  {
   "cell_type": "code",
   "execution_count": 26,
   "metadata": {},
   "outputs": [
    {
     "name": "stdout",
     "output_type": "stream",
     "text": [
      "Regular R^2: 0.432616774205\n",
      "Regular SSE: 9491.299370216564\n"
     ]
    }
   ],
   "source": [
    "X = independents\n",
    "y = targets.iloc[:, 3]\n",
    "\n",
    "regr = linear_model.LinearRegression().fit(X, y)\n",
    "print(\"Regular R^2: \" + str(regr.score(X, y)))\n",
    "print(\"Regular SSE: \" + str(sum((regr.predict(X) - y) ** 2)))\n",
    "\n",
    "# las_reg = linear_model.LassoCV(cv = 10).fit(X,y)\n",
    "# print(\"Lasso R^2: \" + str(las_reg.score(X, y)))\n",
    "# print(\"Lasso SSE: \" + str(sum((las_reg.predict(X) - y) ** 2)))"
   ]
  },
  {
   "cell_type": "markdown",
   "metadata": {},
   "source": [
    "#### Taste"
   ]
  },
  {
   "cell_type": "code",
   "execution_count": 27,
   "metadata": {},
   "outputs": [
    {
     "name": "stdout",
     "output_type": "stream",
     "text": [
      "Regular R^2: 0.511282810183\n",
      "Regular SSE: 9405.363478217347\n"
     ]
    }
   ],
   "source": [
    "X = independents\n",
    "y = targets.iloc[:, 4]\n",
    "\n",
    "regr = linear_model.LinearRegression().fit(X, y)\n",
    "print(\"Regular R^2: \" + str(regr.score(X, y)))\n",
    "print(\"Regular SSE: \" + str(sum((regr.predict(X) - y) ** 2)))\n",
    "\n",
    "# las_reg = linear_model.LassoCV(cv = 10).fit(X,y)\n",
    "# print(\"Lasso R^2: \" + str(las_reg.score(X, y)))\n",
    "# print(\"Lasso SSE: \" + str(sum((las_reg.predict(X) - y) ** 2)))"
   ]
  },
  {
   "cell_type": "markdown",
   "metadata": {},
   "source": [
    "#### Overall"
   ]
  },
  {
   "cell_type": "code",
   "execution_count": 28,
   "metadata": {},
   "outputs": [
    {
     "name": "stdout",
     "output_type": "stream",
     "text": [
      "Regular R^2: 0.443074418684\n",
      "Regular SSE: 10242.71280194145\n"
     ]
    }
   ],
   "source": [
    "X = independents\n",
    "y = targets.iloc[:, 2]\n",
    "\n",
    "regr = linear_model.LinearRegression().fit(X, y)\n",
    "print(\"Regular R^2: \" + str(regr.score(X, y)))\n",
    "print(\"Regular SSE: \" + str(sum((regr.predict(X) - y) ** 2)))\n",
    "\n",
    "# las_reg = linear_model.LassoCV(cv = 10).fit(X,y)\n",
    "# print(\"Lasso R^2: \" + str(las_reg.score(X, y)))\n",
    "# print(\"Lasso SSE: \" + str(sum((las_reg.predict(X) - y) ** 2)))"
   ]
  },
  {
   "cell_type": "code",
   "execution_count": null,
   "metadata": {},
   "outputs": [],
   "source": []
  },
  {
   "cell_type": "code",
   "execution_count": null,
   "metadata": {},
   "outputs": [],
   "source": []
  }
 ],
 "metadata": {
  "kernelspec": {
   "display_name": "Python 3",
   "language": "python",
   "name": "python3"
  },
  "language_info": {
   "codemirror_mode": {
    "name": "ipython",
    "version": 3
   },
   "file_extension": ".py",
   "mimetype": "text/x-python",
   "name": "python",
   "nbconvert_exporter": "python",
   "pygments_lexer": "ipython3",
   "version": "3.6.5"
  }
 },
 "nbformat": 4,
 "nbformat_minor": 2
}
