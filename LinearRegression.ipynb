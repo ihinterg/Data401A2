{
 "cells": [
  {
   "cell_type": "code",
   "execution_count": 112,
   "metadata": {
    "collapsed": true
   },
   "outputs": [],
   "source": [
    "import pandas as pd\n",
    "import numpy as np\n",
    "import matplotlib.pyplot as plt\n",
    "from sklearn import linear_model\n",
    "% matplotlib inline"
   ]
  },
  {
   "cell_type": "code",
   "execution_count": 113,
   "metadata": {
    "collapsed": true
   },
   "outputs": [],
   "source": [
    "depcols = ['review/appearance', 'review/aroma', 'review/overall',\n",
    "           'review/palate', 'review/taste']"
   ]
  },
  {
   "cell_type": "code",
   "execution_count": 119,
   "metadata": {},
   "outputs": [],
   "source": [
    "anna = pd.read_csv(\"anna.csv\")[depcols + [\"index\", \"stopwordcount\", \"charcount\", \"cursewordcount\", \"uniquecursewordcount\"]]\n",
    "\n",
    "df = pd.merge(pd.merge(pd.read_csv(\"tfidfsentiment.csv\"), \n",
    "                       pd.read_csv(\"sentiments.csv\"), \n",
    "                       on = \"index\"), \n",
    "              pd.read_csv(\"more_features.csv\"), \n",
    "              on = \"index\")\n",
    "\n",
    "df = pd.merge(df, anna, on = \"index\")"
   ]
  },
  {
   "cell_type": "code",
   "execution_count": 120,
   "metadata": {},
   "outputs": [],
   "source": [
    "targets = df[depcols]\n",
    "independents = df.drop(depcols, axis = 1)"
   ]
  },
  {
   "cell_type": "code",
   "execution_count": 121,
   "metadata": {},
   "outputs": [
    {
     "data": {
      "text/plain": [
       "Index(['exceptional_x', 'excellent_x', 'fantastic_x', 'wonderful_x',\n",
       "       'highly_x', 'perfect', 'delicious', 'incredible', 'amazing', 'great',\n",
       "       ...\n",
       "       'sentiment_negative', 'sentiment_positive', 'sentiment_sadness',\n",
       "       'sentiment_surprise', 'sentiment_trust', 'proportion_unique',\n",
       "       'stopwordcount', 'charcount', 'cursewordcount', 'uniquecursewordcount'],\n",
       "      dtype='object', length=1062)"
      ]
     },
     "execution_count": 121,
     "metadata": {},
     "output_type": "execute_result"
    }
   ],
   "source": [
    "independents.columns"
   ]
  },
  {
   "cell_type": "code",
   "execution_count": 122,
   "metadata": {},
   "outputs": [
    {
     "data": {
      "text/html": [
       "<div>\n",
       "<style>\n",
       "    .dataframe thead tr:only-child th {\n",
       "        text-align: right;\n",
       "    }\n",
       "\n",
       "    .dataframe thead th {\n",
       "        text-align: left;\n",
       "    }\n",
       "\n",
       "    .dataframe tbody tr th {\n",
       "        vertical-align: top;\n",
       "    }\n",
       "</style>\n",
       "<table border=\"1\" class=\"dataframe\">\n",
       "  <thead>\n",
       "    <tr style=\"text-align: right;\">\n",
       "      <th></th>\n",
       "      <th>exceptional_x</th>\n",
       "      <th>excellent_x</th>\n",
       "      <th>fantastic_x</th>\n",
       "      <th>wonderful_x</th>\n",
       "      <th>highly_x</th>\n",
       "      <th>perfect</th>\n",
       "      <th>delicious</th>\n",
       "      <th>incredible</th>\n",
       "      <th>amazing</th>\n",
       "      <th>great</th>\n",
       "      <th>...</th>\n",
       "      <th>sentiment_negative</th>\n",
       "      <th>sentiment_positive</th>\n",
       "      <th>sentiment_sadness</th>\n",
       "      <th>sentiment_surprise</th>\n",
       "      <th>sentiment_trust</th>\n",
       "      <th>proportion_unique</th>\n",
       "      <th>stopwordcount</th>\n",
       "      <th>charcount</th>\n",
       "      <th>cursewordcount</th>\n",
       "      <th>uniquecursewordcount</th>\n",
       "    </tr>\n",
       "  </thead>\n",
       "  <tbody>\n",
       "    <tr>\n",
       "      <th>0</th>\n",
       "      <td>0.0</td>\n",
       "      <td>0.0</td>\n",
       "      <td>0.0</td>\n",
       "      <td>0.0</td>\n",
       "      <td>0.0</td>\n",
       "      <td>0.0</td>\n",
       "      <td>0.0</td>\n",
       "      <td>0.0</td>\n",
       "      <td>0.0</td>\n",
       "      <td>0.0</td>\n",
       "      <td>...</td>\n",
       "      <td>0.263158</td>\n",
       "      <td>0.263158</td>\n",
       "      <td>0.052632</td>\n",
       "      <td>0.052632</td>\n",
       "      <td>0.105263</td>\n",
       "      <td>0.744681</td>\n",
       "      <td>42</td>\n",
       "      <td>415</td>\n",
       "      <td>0</td>\n",
       "      <td>0</td>\n",
       "    </tr>\n",
       "    <tr>\n",
       "      <th>1</th>\n",
       "      <td>0.0</td>\n",
       "      <td>0.0</td>\n",
       "      <td>0.0</td>\n",
       "      <td>0.0</td>\n",
       "      <td>0.0</td>\n",
       "      <td>0.0</td>\n",
       "      <td>0.0</td>\n",
       "      <td>0.0</td>\n",
       "      <td>0.0</td>\n",
       "      <td>0.0</td>\n",
       "      <td>...</td>\n",
       "      <td>0.161290</td>\n",
       "      <td>0.193548</td>\n",
       "      <td>0.064516</td>\n",
       "      <td>0.064516</td>\n",
       "      <td>0.096774</td>\n",
       "      <td>0.660194</td>\n",
       "      <td>42</td>\n",
       "      <td>450</td>\n",
       "      <td>0</td>\n",
       "      <td>0</td>\n",
       "    </tr>\n",
       "    <tr>\n",
       "      <th>2</th>\n",
       "      <td>0.0</td>\n",
       "      <td>0.0</td>\n",
       "      <td>0.0</td>\n",
       "      <td>0.0</td>\n",
       "      <td>0.0</td>\n",
       "      <td>0.0</td>\n",
       "      <td>0.0</td>\n",
       "      <td>0.0</td>\n",
       "      <td>0.0</td>\n",
       "      <td>0.0</td>\n",
       "      <td>...</td>\n",
       "      <td>0.000000</td>\n",
       "      <td>0.421053</td>\n",
       "      <td>0.000000</td>\n",
       "      <td>0.052632</td>\n",
       "      <td>0.105263</td>\n",
       "      <td>0.850746</td>\n",
       "      <td>21</td>\n",
       "      <td>312</td>\n",
       "      <td>0</td>\n",
       "      <td>0</td>\n",
       "    </tr>\n",
       "    <tr>\n",
       "      <th>3</th>\n",
       "      <td>0.0</td>\n",
       "      <td>0.0</td>\n",
       "      <td>0.0</td>\n",
       "      <td>0.0</td>\n",
       "      <td>0.0</td>\n",
       "      <td>0.0</td>\n",
       "      <td>0.0</td>\n",
       "      <td>0.0</td>\n",
       "      <td>0.0</td>\n",
       "      <td>0.0</td>\n",
       "      <td>...</td>\n",
       "      <td>0.300000</td>\n",
       "      <td>0.100000</td>\n",
       "      <td>0.000000</td>\n",
       "      <td>0.000000</td>\n",
       "      <td>0.100000</td>\n",
       "      <td>0.814286</td>\n",
       "      <td>27</td>\n",
       "      <td>312</td>\n",
       "      <td>0</td>\n",
       "      <td>0</td>\n",
       "    </tr>\n",
       "    <tr>\n",
       "      <th>4</th>\n",
       "      <td>0.0</td>\n",
       "      <td>0.0</td>\n",
       "      <td>0.0</td>\n",
       "      <td>0.0</td>\n",
       "      <td>0.0</td>\n",
       "      <td>0.0</td>\n",
       "      <td>0.0</td>\n",
       "      <td>0.0</td>\n",
       "      <td>0.0</td>\n",
       "      <td>0.0</td>\n",
       "      <td>...</td>\n",
       "      <td>0.176471</td>\n",
       "      <td>0.176471</td>\n",
       "      <td>0.000000</td>\n",
       "      <td>0.176471</td>\n",
       "      <td>0.176471</td>\n",
       "      <td>0.747368</td>\n",
       "      <td>49</td>\n",
       "      <td>383</td>\n",
       "      <td>0</td>\n",
       "      <td>0</td>\n",
       "    </tr>\n",
       "  </tbody>\n",
       "</table>\n",
       "<p>5 rows × 1062 columns</p>\n",
       "</div>"
      ],
      "text/plain": [
       "   exceptional_x  excellent_x  fantastic_x  wonderful_x  highly_x  perfect  \\\n",
       "0            0.0          0.0          0.0          0.0       0.0      0.0   \n",
       "1            0.0          0.0          0.0          0.0       0.0      0.0   \n",
       "2            0.0          0.0          0.0          0.0       0.0      0.0   \n",
       "3            0.0          0.0          0.0          0.0       0.0      0.0   \n",
       "4            0.0          0.0          0.0          0.0       0.0      0.0   \n",
       "\n",
       "   delicious  incredible  amazing  great          ...           \\\n",
       "0        0.0         0.0      0.0    0.0          ...            \n",
       "1        0.0         0.0      0.0    0.0          ...            \n",
       "2        0.0         0.0      0.0    0.0          ...            \n",
       "3        0.0         0.0      0.0    0.0          ...            \n",
       "4        0.0         0.0      0.0    0.0          ...            \n",
       "\n",
       "   sentiment_negative  sentiment_positive  sentiment_sadness  \\\n",
       "0            0.263158            0.263158           0.052632   \n",
       "1            0.161290            0.193548           0.064516   \n",
       "2            0.000000            0.421053           0.000000   \n",
       "3            0.300000            0.100000           0.000000   \n",
       "4            0.176471            0.176471           0.000000   \n",
       "\n",
       "   sentiment_surprise  sentiment_trust  proportion_unique  stopwordcount  \\\n",
       "0            0.052632         0.105263           0.744681             42   \n",
       "1            0.064516         0.096774           0.660194             42   \n",
       "2            0.052632         0.105263           0.850746             21   \n",
       "3            0.000000         0.100000           0.814286             27   \n",
       "4            0.176471         0.176471           0.747368             49   \n",
       "\n",
       "   charcount  cursewordcount  uniquecursewordcount  \n",
       "0        415               0                     0  \n",
       "1        450               0                     0  \n",
       "2        312               0                     0  \n",
       "3        312               0                     0  \n",
       "4        383               0                     0  \n",
       "\n",
       "[5 rows x 1062 columns]"
      ]
     },
     "execution_count": 122,
     "metadata": {},
     "output_type": "execute_result"
    }
   ],
   "source": [
    "independents.head()"
   ]
  },
  {
   "cell_type": "code",
   "execution_count": 123,
   "metadata": {
    "scrolled": true
   },
   "outputs": [
    {
     "data": {
      "text/html": [
       "<div>\n",
       "<style>\n",
       "    .dataframe thead tr:only-child th {\n",
       "        text-align: right;\n",
       "    }\n",
       "\n",
       "    .dataframe thead th {\n",
       "        text-align: left;\n",
       "    }\n",
       "\n",
       "    .dataframe tbody tr th {\n",
       "        vertical-align: top;\n",
       "    }\n",
       "</style>\n",
       "<table border=\"1\" class=\"dataframe\">\n",
       "  <thead>\n",
       "    <tr style=\"text-align: right;\">\n",
       "      <th></th>\n",
       "      <th>review/appearance</th>\n",
       "      <th>review/aroma</th>\n",
       "      <th>review/overall</th>\n",
       "      <th>review/palate</th>\n",
       "      <th>review/taste</th>\n",
       "    </tr>\n",
       "  </thead>\n",
       "  <tbody>\n",
       "    <tr>\n",
       "      <th>0</th>\n",
       "      <td>4.0</td>\n",
       "      <td>4.0</td>\n",
       "      <td>4.0</td>\n",
       "      <td>4.0</td>\n",
       "      <td>4.0</td>\n",
       "    </tr>\n",
       "    <tr>\n",
       "      <th>1</th>\n",
       "      <td>4.0</td>\n",
       "      <td>3.5</td>\n",
       "      <td>3.5</td>\n",
       "      <td>3.5</td>\n",
       "      <td>3.0</td>\n",
       "    </tr>\n",
       "    <tr>\n",
       "      <th>2</th>\n",
       "      <td>3.5</td>\n",
       "      <td>4.0</td>\n",
       "      <td>3.5</td>\n",
       "      <td>3.5</td>\n",
       "      <td>3.5</td>\n",
       "    </tr>\n",
       "    <tr>\n",
       "      <th>3</th>\n",
       "      <td>3.0</td>\n",
       "      <td>3.0</td>\n",
       "      <td>2.5</td>\n",
       "      <td>3.0</td>\n",
       "      <td>3.0</td>\n",
       "    </tr>\n",
       "    <tr>\n",
       "      <th>4</th>\n",
       "      <td>4.0</td>\n",
       "      <td>3.0</td>\n",
       "      <td>3.0</td>\n",
       "      <td>3.5</td>\n",
       "      <td>2.5</td>\n",
       "    </tr>\n",
       "  </tbody>\n",
       "</table>\n",
       "</div>"
      ],
      "text/plain": [
       "   review/appearance  review/aroma  review/overall  review/palate  \\\n",
       "0                4.0           4.0             4.0            4.0   \n",
       "1                4.0           3.5             3.5            3.5   \n",
       "2                3.5           4.0             3.5            3.5   \n",
       "3                3.0           3.0             2.5            3.0   \n",
       "4                4.0           3.0             3.0            3.5   \n",
       "\n",
       "   review/taste  \n",
       "0           4.0  \n",
       "1           3.0  \n",
       "2           3.5  \n",
       "3           3.0  \n",
       "4           2.5  "
      ]
     },
     "execution_count": 123,
     "metadata": {},
     "output_type": "execute_result"
    }
   ],
   "source": [
    "targets.head()"
   ]
  },
  {
   "cell_type": "markdown",
   "metadata": {},
   "source": [
    "#### Apearance"
   ]
  },
  {
   "cell_type": "code",
   "execution_count": 141,
   "metadata": {},
   "outputs": [],
   "source": [
    "np.random.seed(0)\n",
    "\n",
    "validx = np.random.choice(df.index, size = int(df.shape[0] * .1), replace = False)\n",
    "trainidx = [x for x in df.index if x not in validx]"
   ]
  },
  {
   "cell_type": "code",
   "execution_count": 142,
   "metadata": {},
   "outputs": [
    {
     "name": "stdout",
     "output_type": "stream",
     "text": [
      "Train R^2: 0.109839143203\n",
      "Val MSE: 0.335278039416\n"
     ]
    }
   ],
   "source": [
    "dep = \"review/appearance\"\n",
    "\n",
    "X_train = independents.iloc[trainidx].values\n",
    "X_val = independents.iloc[validx].values\n",
    "\n",
    "y_train = targets.iloc[trainidx].loc[:, dep].values\n",
    "y_val = targets.iloc[validx].loc[:, dep].values\n",
    "\n",
    "regr = linear_model.LinearRegression().fit(X_train, y_train)\n",
    "print(\"Train R^2: \" + str(regr.score(X_train, y_train)))\n",
    "print(\"Val MSE: \" + str(sum((regr.predict(X_val) - y_val) ** 2) / X_val.shape[0]))\n",
    "\n",
    "# las_reg = linear_model.LassoCV(cv = 10).fit(X,y)\n",
    "# print(\"Lasso R^2: \" + str(las_reg.score(X, y)))\n",
    "# print(\"Lasso SSE: \" + str(sum((las_reg.predict(X) - y) ** 2)))"
   ]
  },
  {
   "cell_type": "markdown",
   "metadata": {},
   "source": [
    "#### Aroma"
   ]
  },
  {
   "cell_type": "code",
   "execution_count": 143,
   "metadata": {},
   "outputs": [
    {
     "name": "stdout",
     "output_type": "stream",
     "text": [
      "Train R^2: 0.129325493621\n",
      "Val MSE: 0.44565626114\n"
     ]
    }
   ],
   "source": [
    "dep = \"review/aroma\"\n",
    "\n",
    "X_train = independents.iloc[trainidx].values\n",
    "X_val = independents.iloc[validx].values\n",
    "\n",
    "y_train = targets.iloc[trainidx].loc[:, dep].values\n",
    "y_val = targets.iloc[validx].loc[:, dep].values\n",
    "\n",
    "regr = linear_model.LinearRegression().fit(X_train, y_train)\n",
    "print(\"Train R^2: \" + str(regr.score(X_train, y_train)))\n",
    "print(\"Val MSE: \" + str(sum((regr.predict(X_val) - y_val) ** 2) / X_val.shape[0]))\n",
    "\n",
    "# las_reg = linear_model.LassoCV(cv = 10).fit(X,y)\n",
    "# print(\"Lasso R^2: \" + str(las_reg.score(X, y)))\n",
    "# print(\"Lasso SSE: \" + str(sum((las_reg.predict(X) - y) ** 2)))"
   ]
  },
  {
   "cell_type": "markdown",
   "metadata": {},
   "source": [
    "#### Palate"
   ]
  },
  {
   "cell_type": "code",
   "execution_count": 144,
   "metadata": {},
   "outputs": [
    {
     "name": "stdout",
     "output_type": "stream",
     "text": [
      "Train R^2: 0.118284943022\n",
      "Val MSE: 0.42990157284\n"
     ]
    }
   ],
   "source": [
    "dep = \"review/palate\"\n",
    "\n",
    "X_train = independents.iloc[trainidx].values\n",
    "X_val = independents.iloc[validx].values\n",
    "\n",
    "y_train = targets.iloc[trainidx].loc[:, dep].values\n",
    "y_val = targets.iloc[validx].loc[:, dep].values\n",
    "\n",
    "regr = linear_model.LinearRegression().fit(X_train, y_train)\n",
    "print(\"Train R^2: \" + str(regr.score(X_train, y_train)))\n",
    "print(\"Val MSE: \" + str(sum((regr.predict(X_val) - y_val) ** 2) / X_val.shape[0]))\n",
    "\n",
    "# las_reg = linear_model.LassoCV(cv = 10).fit(X,y)\n",
    "# print(\"Lasso R^2: \" + str(las_reg.score(X, y)))\n",
    "# print(\"Lasso SSE: \" + str(sum((las_reg.predict(X) - y) ** 2)))"
   ]
  },
  {
   "cell_type": "markdown",
   "metadata": {},
   "source": [
    "#### Taste"
   ]
  },
  {
   "cell_type": "code",
   "execution_count": 145,
   "metadata": {},
   "outputs": [
    {
     "name": "stdout",
     "output_type": "stream",
     "text": [
      "Train R^2: 0.130859991467\n",
      "Val MSE: 0.480120483685\n"
     ]
    }
   ],
   "source": [
    "dep = \"review/taste\"\n",
    "\n",
    "X_train = independents.iloc[trainidx].values\n",
    "X_val = independents.iloc[validx].values\n",
    "\n",
    "y_train = targets.iloc[trainidx].loc[:, dep].values\n",
    "y_val = targets.iloc[validx].loc[:, dep].values\n",
    "\n",
    "regr = linear_model.LinearRegression().fit(X_train, y_train)\n",
    "print(\"Train R^2: \" + str(regr.score(X_train, y_train)))\n",
    "print(\"Val MSE: \" + str(sum((regr.predict(X_val) - y_val) ** 2) / X_val.shape[0]))\n",
    "\n",
    "# las_reg = linear_model.LassoCV(cv = 10).fit(X,y)\n",
    "# print(\"Lasso R^2: \" + str(las_reg.score(X, y)))\n",
    "# print(\"Lasso SSE: \" + str(sum((las_reg.predict(X) - y) ** 2)))"
   ]
  },
  {
   "cell_type": "markdown",
   "metadata": {},
   "source": [
    "#### Overall"
   ]
  },
  {
   "cell_type": "code",
   "execution_count": 146,
   "metadata": {},
   "outputs": [
    {
     "name": "stdout",
     "output_type": "stream",
     "text": [
      "Train R^2: 0.11037856513\n",
      "Val MSE: 0.472746881377\n"
     ]
    }
   ],
   "source": [
    "dep = \"review/overall\"\n",
    "\n",
    "X_train = independents.iloc[trainidx].values\n",
    "X_val = independents.iloc[validx].values\n",
    "\n",
    "y_train = targets.iloc[trainidx].loc[:, dep].values\n",
    "y_val = targets.iloc[validx].loc[:, dep].values\n",
    "\n",
    "regr = linear_model.LinearRegression().fit(X_train, y_train)\n",
    "print(\"Train R^2: \" + str(regr.score(X_train, y_train)))\n",
    "print(\"Val MSE: \" + str(sum((regr.predict(X_val) - y_val) ** 2) / X_val.shape[0]))\n",
    "\n",
    "# las_reg = linear_model.LassoCV(cv = 10).fit(X,y)\n",
    "# print(\"Lasso R^2: \" + str(las_reg.score(X, y)))\n",
    "# print(\"Lasso SSE: \" + str(sum((las_reg.predict(X) - y) ** 2)))"
   ]
  },
  {
   "cell_type": "code",
   "execution_count": null,
   "metadata": {
    "collapsed": true
   },
   "outputs": [],
   "source": []
  },
  {
   "cell_type": "code",
   "execution_count": null,
   "metadata": {
    "collapsed": true
   },
   "outputs": [],
   "source": []
  }
 ],
 "metadata": {
  "kernelspec": {
   "display_name": "Python 3",
   "language": "python",
   "name": "python3"
  },
  "language_info": {
   "codemirror_mode": {
    "name": "ipython",
    "version": 3
   },
   "file_extension": ".py",
   "mimetype": "text/x-python",
   "name": "python",
   "nbconvert_exporter": "python",
   "pygments_lexer": "ipython3",
   "version": "3.6.2"
  }
 },
 "nbformat": 4,
 "nbformat_minor": 2
}
